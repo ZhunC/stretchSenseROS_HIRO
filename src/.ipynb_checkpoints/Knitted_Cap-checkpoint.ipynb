{
 "cells": [
  {
   "cell_type": "code",
   "execution_count": 48,
   "metadata": {},
   "outputs": [],
   "source": [
    "from bluepy import btle\n",
    "from bluepy.btle import Scanner, DefaultDelegate\n",
    "import easydict as EasyDict\n",
    "import numpy as np\n",
    "import binascii\n",
    "import sys\n",
    "from collections import deque\n",
    "import matplotlib.pyplot as plt\n",
    "import rospy\n",
    "from std_msgs.msg import Int64, String\n",
    "import time"
   ]
  },
  {
   "cell_type": "code",
   "execution_count": 52,
   "metadata": {},
   "outputs": [],
   "source": [
    "capVal = deque(maxlen = 50)\n",
    "\n",
    "# pub = rospy.Publisher('knitval', Int64, queue_size=10)\n",
    "# rospy.init_node('knitcap', anonymous=True)\n",
    "\n",
    "class MyDelegate(btle.DefaultDelegate):\n",
    "    def __init__(self, params):\n",
    "        btle.DefaultDelegate.__init__(self)\n",
    "        # ... initialise here\n",
    "\n",
    "    def handleNotification(self, cHandle, data):\n",
    "        decimalValue = (binascii.b2a_hex(data))\n",
    "        splitted = [decimalValue[i:i+4] for i in range(0, len(decimalValue),4)]\n",
    "        sens = np.array(list(map(lambda x: int((x),16), splitted)))\n",
    "        sens = [str(s) for s in sens]\n",
    "        sys.stdout.write(\"\\r %s\" % ' '.join(sens))\n",
    "        sys.stdout.flush()\n",
    "\n",
    "        \n",
    "        \n",
    "\n",
    "# try:\n",
    "#     p.disconnect()\n",
    "# except:\n",
    "#     pass\n",
    "# # Initialisation  -------\n",
    "# address = 'f6:b2:2f:08:b9:48'\n",
    "# # address = 'F8:A6:1C:CB:ED:A6'\n",
    "# # address = 'de:9c:60:51:f5:bf'\n",
    "# p = btle.Peripheral( address, 'random' )\n",
    "# p.withDelegate( MyDelegate(p) )\n",
    "\n",
    "# svc = p.getServiceByUUID('00001701-7374-7265-7563-6873656e7365')\n",
    "# char = svc.getCharacteristics()[0]\n",
    "# handle = char.valHandle\n",
    "# p.writeCharacteristic(handle+1, b'\\x01\\x00')\n",
    "\n",
    "# while True:\n",
    "#     if p.waitForNotifications(0.9):\n",
    "#         continue\n",
    "#     print (\"Waiting...\")"
   ]
  },
  {
   "cell_type": "code",
   "execution_count": 54,
   "metadata": {},
   "outputs": [
    {
     "name": "stdout",
     "output_type": "stream",
     "text": [
      "f6:b2:2f:08:b9:48\n"
     ]
    }
   ],
   "source": [
    "def connectGlove():\n",
    "    scanner = Scanner().withDelegate(MyDelegate())\n",
    "    devices = scanner.scan(3)\n",
    "    listOfPeripheralsAvailable = []\n",
    "    \n",
    "    for dev in devices:\n",
    "        for (sdid, desc, val) in dev.getScanData():\n",
    "            if val == 'StretchSense':\n",
    "                listOfPeripheralsAvailable.append(dev.addr)\n",
    "                print(dev.addr)\n",
    "        \n",
    "connectGlove()"
   ]
  },
  {
   "cell_type": "code",
   "execution_count": null,
   "metadata": {},
   "outputs": [],
   "source": [
    "p.writeCharacteristic(29, b\"Z\")\n",
    "decimalValue = (binascii.b2a_hex(b\"Z\"))\n",
    "decimalValue = int(decimalValue,16)\n",
    "print(decimalValue)\n",
    "\n",
    "for char in svc.getCharacteristics():\n",
    "    print(char.propertiesToString())\n",
    "    data = char.read()\n",
    "    print(data)\n",
    "    decimalValue = (binascii.b2a_hex(data))\n",
    "    decimalValue = int(decimalValue,16)\n",
    "    print(decimalValue)\n",
    "\n"
   ]
  },
  {
   "cell_type": "code",
   "execution_count": 34,
   "metadata": {},
   "outputs": [],
   "source": [
    "p.disconnect()"
   ]
  },
  {
   "cell_type": "code",
   "execution_count": 44,
   "metadata": {},
   "outputs": [
    {
     "ename": "TypeError",
     "evalue": "'module' object is not callable",
     "output_type": "error",
     "traceback": [
      "\u001b[0;31m---------------------------------------------------------------------------\u001b[0m",
      "\u001b[0;31mTypeError\u001b[0m                                 Traceback (most recent call last)",
      "\u001b[0;32m<ipython-input-44-ec30cf79520a>\u001b[0m in \u001b[0;36m<module>\u001b[0;34m\u001b[0m\n\u001b[1;32m      6\u001b[0m     \u001b[0;34m'all'\u001b[0m\u001b[0;34m:\u001b[0m \u001b[0;32mTrue\u001b[0m\u001b[0;34m,\u001b[0m\u001b[0;34m\u001b[0m\u001b[0;34m\u001b[0m\u001b[0m\n\u001b[1;32m      7\u001b[0m     \u001b[0;34m'new'\u001b[0m\u001b[0;34m:\u001b[0m \u001b[0;32mTrue\u001b[0m\u001b[0;34m,\u001b[0m\u001b[0;34m\u001b[0m\u001b[0;34m\u001b[0m\u001b[0m\n\u001b[0;32m----> 8\u001b[0;31m     \u001b[0;34m'verbose'\u001b[0m\u001b[0;34m:\u001b[0m \u001b[0;32mTrue\u001b[0m\u001b[0;34m,\u001b[0m\u001b[0;34m\u001b[0m\u001b[0;34m\u001b[0m\u001b[0m\n\u001b[0m\u001b[1;32m      9\u001b[0m })\n",
      "\u001b[0;31mTypeError\u001b[0m: 'module' object is not callable"
     ]
    }
   ],
   "source": []
  },
  {
   "cell_type": "code",
   "execution_count": 2,
   "metadata": {
    "scrolled": false
   },
   "outputs": [
    {
     "name": "stdout",
     "output_type": "stream",
     "text": [
      "\n",
      "\n"
     ]
    },
    {
     "name": "stderr",
     "output_type": "stream",
     "text": [
      "/home/husky/.local/lib/python3.6/site-packages/ipykernel_launcher.py:12: YAMLLoadWarning: calling yaml.load() without Loader=... is deprecated, as the default Loader is unsafe. Please read https://msg.pyyaml.org/load for full details.\n",
      "  if sys.path[0] == '':\n"
     ]
    },
    {
     "name": "stdout",
     "output_type": "stream",
     "text": [
      "Select a glove to connect\n",
      "\n",
      "\t 0. Unknown, addr: f6:b2:2f:08:b9:48\n",
      "Select from 0 to 0 for a glove 0\n",
      "connecting to addr f6:b2:2f:08:b9:48\n",
      "connected to f6:b2:2f:08:b9:48 \n"
     ]
    }
   ],
   "source": [
    "import yaml\n",
    "from lib import StretchSense\n",
    "ssObject = StretchSense.StretchSenseAPI()\n",
    "ssObject.ble_disconnectAllPeripherals()\n",
    "ssObject.ble_scanning(2)\n",
    "\n",
    "availablePeri = ssObject.ble_getListPeripheralAvailable()\n",
    "avail_peris = [peri.addr for peri in availablePeri[1:]]\n",
    "\n",
    "    \n",
    "knownPeripherals = open(\"knownPeripherals.yaml\")\n",
    "kP = yaml.load(knownPeripherals)\n",
    "Gloves = kP['Gloves']\n",
    "\n",
    "print('Select a glove to connect\\n')\n",
    "for i in range(len(avail_peris)):\n",
    "    if avail_peris[i] in Gloves.keys():\n",
    "        print('\\t %i. %s' % (i, Gloves[avail_peris[i]]))\n",
    "    else:\n",
    "        print('\\t %i. Unknown, addr: %s' % (i, avail_peris[i]))\n",
    "\n",
    "# print('Select a glove to connect\\n')\n",
    "# no_of_gloves = len(kP['Gloves'])\n",
    "# for glove in range(no_of_gloves):\n",
    "#     print('\\t %i. %s' % (glove, kP['Gloves'][glove]))\n",
    "\n",
    "selected = int(input('Select from 0 to %i for a glove ' %(len(avail_peris)-1)))\n",
    "addr = avail_peris[selected]\n",
    "\n",
    "print('connecting to addr %s' % addr)\n",
    "ssObject.ble_connectOnePeripheral(addr)\n",
    "connected = list(set([c.addr for c in ssObject.listPeripheralIsConnected]))\n",
    "\n",
    "print('connected to %s ' % connected[0])"
   ]
  },
  {
   "cell_type": "code",
   "execution_count": 3,
   "metadata": {},
   "outputs": [
    {
     "data": {
      "text/plain": [
       "<lib.StretchSense.RepeatedTimer at 0x7f8d39b1ae80>"
      ]
     },
     "execution_count": 3,
     "metadata": {},
     "output_type": "execute_result"
    },
    {
     "name": "stdout",
     "output_type": "stream",
     "text": [
      " 123.6 275.7 126.7 0.0 297.2 295.1 283.1 284.5 0.0 0.0"
     ]
    }
   ],
   "source": [
    "def updateValue():\n",
    "    ssObject.ble_waitNotifications()\n",
    "    sens = ssObject.ble_getValuesCsv()\n",
    "    sens = [str(s) for s in sens]\n",
    "    sys.stdout.write(\"\\r %s\" % ' '.join(sens))\n",
    "    sys.stdout.flush()\n",
    "\n",
    "# updateValue()\n",
    "StretchSense.RepeatedTimer(0.01, lambda: updateValue())"
   ]
  },
  {
   "cell_type": "code",
   "execution_count": null,
   "metadata": {},
   "outputs": [],
   "source": [
    "ssObject.ble_disconnectAllPeripherals()"
   ]
  },
  {
   "cell_type": "code",
   "execution_count": 5,
   "metadata": {},
   "outputs": [
    {
     "data": {
      "text/plain": [
       "<bluepy.btle.Scanner at 0x7f23ed505550>"
      ]
     },
     "execution_count": 5,
     "metadata": {},
     "output_type": "execute_result"
    }
   ],
   "source": [
    "btle.Scanner(5)"
   ]
  },
  {
   "cell_type": "code",
   "execution_count": null,
   "metadata": {},
   "outputs": [],
   "source": []
  },
  {
   "cell_type": "code",
   "execution_count": null,
   "metadata": {},
   "outputs": [],
   "source": []
  },
  {
   "cell_type": "code",
   "execution_count": null,
   "metadata": {},
   "outputs": [],
   "source": [
    "import pandas as pd\n",
    "import numpy as np\n",
    "import matplotlib.pyplot as plt\n",
    "from matplotlib.pyplot import figure\n",
    "figure(num=None, figsize=(16, 6), dpi=80, facecolor='w', edgecolor='k')\n",
    "\n",
    "fileToOpen = '/media/husky/Ubuntu 16.04.5 LTS amd64/HTX_MB1242_test/htx.csv'\n",
    "htx = pd.read_csv(fileToOpen)\n",
    "htx.columns = ['range']\n",
    "plt.ylim(50,110)\n",
    "plt.ylabel('range/cm')\n",
    "plt.xlabel('time/ds')\n",
    "plt.plot(htx.iloc[:2000])\n",
    "\n",
    "print('\\n\\nStandard deviation after smoke is about %fcm' % np.std(htx.iloc[500:1500]))"
   ]
  },
  {
   "cell_type": "code",
   "execution_count": null,
   "metadata": {},
   "outputs": [],
   "source": []
  }
 ],
 "metadata": {
  "kernelspec": {
   "display_name": "Python 3",
   "language": "python",
   "name": "python3"
  },
  "language_info": {
   "codemirror_mode": {
    "name": "ipython",
    "version": 3
   },
   "file_extension": ".py",
   "mimetype": "text/x-python",
   "name": "python",
   "nbconvert_exporter": "python",
   "pygments_lexer": "ipython3",
   "version": "3.6.9"
  }
 },
 "nbformat": 4,
 "nbformat_minor": 2
}
