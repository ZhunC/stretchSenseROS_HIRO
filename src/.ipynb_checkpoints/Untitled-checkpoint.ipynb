{
 "cells": [
  {
   "cell_type": "code",
   "execution_count": 1,
   "id": "greatest-still",
   "metadata": {},
   "outputs": [],
   "source": [
    "import rospy \n",
    "import actionlib\n",
    "from stretchsense.msg import smartGloveServerAction, smartGloveServerGoal\n",
    "import time"
   ]
  },
  {
   "cell_type": "code",
   "execution_count": 2,
   "id": "liked-reviewer",
   "metadata": {},
   "outputs": [],
   "source": [
    "def feedback(msg):\n",
    "    print('Feedback received: ', msg)"
   ]
  },
  {
   "cell_type": "code",
   "execution_count": 3,
   "id": "identical-missile",
   "metadata": {},
   "outputs": [],
   "source": [
    "def call_server(action: list):\n",
    "    \n",
    "    client = actionlib.SimpleActionClient('smartglove', smartGloveServerAction)\n",
    "    client.wait_for_server()\n",
    "    goal = smartGloveServerGoal()\n",
    "    goal.goal = action\n",
    "    client.send_goal(goal, feedback_cb = feedback)\n",
    "    client.wait_for_result()\n",
    "    result = client.get_result()\n",
    "    return result\n",
    "\n",
    "def scan_for_devices(arg: None):\n",
    "    return call_server(['scan'])\n",
    "    \n",
    "def connect_with_address(addr: str):\n",
    "    return call_server(['connect', addr])\n",
    "\n",
    "def select_model(filename: str):\n",
    "    return call_server(['select_theta', filename])\n",
    "\n",
    "def calibrate(arg: None):\n",
    "    return call_server(['calibrate'])\n",
    "\n",
    "def choose_goal(action: callable, arg: str = 'empty'):\n",
    "    try:\n",
    "        result = action(arg)\n",
    "        print('The result is:', result)\n",
    "        \n",
    "    except rospy.ROSInterruptException as e:\n",
    "        print('Something went wrong:', e)\n",
    "        \n",
    "def stop_thread(arg: None):\n",
    "    return call_server(['stop'])\n",
    "\n",
    "def disconnect_peripheral(arg: None):\n",
    "    return call_server(['disconnect'])\n",
    "\n",
    "rospy.init_node('smart_glove_client')"
   ]
  },
  {
   "cell_type": "code",
   "execution_count": 4,
   "id": "polished-compound",
   "metadata": {},
   "outputs": [
    {
     "name": "stdout",
     "output_type": "stream",
     "text": [
      "The result is: result: \n",
      "  - Acidalia\n",
      "  - f8:a6:1c:cb:ed:a6\n",
      "The result is: result: []\n",
      "The result is: result: \n",
      "  - Clench your fist and follow the model on the screen\n"
     ]
    }
   ],
   "source": [
    "choose_goal(scan_for_devices)\n",
    "choose_goal(connect_with_address, 'Acidalia')\n",
    "# choose_goal(calibrate)\n",
    "choose_goal(select_model, 'theta_new.csv')\n",
    "# time.sleep(5)\n",
    "# choose_goal(stop_thread)"
   ]
  },
  {
   "cell_type": "code",
   "execution_count": 5,
   "id": "functional-native",
   "metadata": {},
   "outputs": [
    {
     "name": "stdout",
     "output_type": "stream",
     "text": [
      "The result is: result: \n",
      "  - thread stopped\n",
      "The result is: result: \n",
      "  - disconnected\n"
     ]
    }
   ],
   "source": [
    "choose_goal(stop_thread)\n",
    "choose_goal(disconnect_peripheral)"
   ]
  },
  {
   "cell_type": "code",
   "execution_count": null,
   "id": "located-webcam",
   "metadata": {},
   "outputs": [],
   "source": [
    "count = [1,2,3]\n",
    "\n",
    "try:\n",
    "    while True:\n",
    "        for r in range(20):\n",
    "            print(count[r])\n",
    "except Exception as e:\n",
    "    print(e)\n",
    "    \n"
   ]
  },
  {
   "cell_type": "code",
   "execution_count": 4,
   "id": "alive-rover",
   "metadata": {},
   "outputs": [],
   "source": [
    "import time\n",
    "import threading\n",
    "# from multiprocessing import Process\n",
    "\n",
    "arr = [1,2,3]\n",
    "\n",
    "class thread_test():\n",
    "    def __init__(self):\n",
    "#         super().__init__()\n",
    "        self._stop = threading.Event()\n",
    "        \n",
    "    def stopped(self):\n",
    "        return self._stop.isSet()\n",
    "    \n",
    "    def recurring(self):\n",
    "        try:\n",
    "            while not self.stopped():\n",
    "                print('running')\n",
    "                time.sleep(1)\n",
    "            print('stopped running')\n",
    "        except Exception as e:\n",
    "            print(e)\n",
    "            pass \n",
    "\n"
   ]
  },
  {
   "cell_type": "code",
   "execution_count": 5,
   "id": "agricultural-system",
   "metadata": {},
   "outputs": [],
   "source": [
    "tt = thread_test()\n",
    "\n",
    "tt_thread = threading.Thread(target = tt.recurring, args=())\n",
    "tt_thread.isDaemon = True\n",
    "\n",
    "tt_thread.start()\n",
    "\n",
    "# tt_thread = thread_test()\n",
    "# tt_thread.start()"
   ]
  },
  {
   "cell_type": "code",
   "execution_count": 3,
   "id": "turned-ordinary",
   "metadata": {},
   "outputs": [
    {
     "name": "stdout",
     "output_type": "stream",
     "text": [
      "the thread is alive: True\n",
      "the thread is stopped: False\n",
      "stopped running\n"
     ]
    }
   ],
   "source": [
    "print(f'the thread is alive: {tt_thread.is_alive()}')\n",
    "tt._stop.set()\n",
    "print(f'the thread is stopped: {tt_thread._is_stopped}')\n",
    "\n",
    "# tt_thread._is_stopped"
   ]
  },
  {
   "cell_type": "code",
   "execution_count": null,
   "id": "comparative-nashville",
   "metadata": {},
   "outputs": [],
   "source": [
    "tt = thread_test()"
   ]
  },
  {
   "cell_type": "code",
   "execution_count": 2,
   "id": "latter-skirt",
   "metadata": {},
   "outputs": [
    {
     "data": {
      "text/plain": [
       "['__class__',\n",
       " '__delattr__',\n",
       " '__dict__',\n",
       " '__dir__',\n",
       " '__doc__',\n",
       " '__eq__',\n",
       " '__format__',\n",
       " '__ge__',\n",
       " '__getattribute__',\n",
       " '__gt__',\n",
       " '__hash__',\n",
       " '__init__',\n",
       " '__init_subclass__',\n",
       " '__le__',\n",
       " '__lt__',\n",
       " '__module__',\n",
       " '__ne__',\n",
       " '__new__',\n",
       " '__reduce__',\n",
       " '__reduce_ex__',\n",
       " '__repr__',\n",
       " '__setattr__',\n",
       " '__sizeof__',\n",
       " '__str__',\n",
       " '__subclasshook__',\n",
       " '__weakref__',\n",
       " '_reset_internal_locks',\n",
       " 'clear',\n",
       " 'isSet',\n",
       " 'is_set',\n",
       " 'set',\n",
       " 'wait']"
      ]
     },
     "execution_count": 2,
     "metadata": {},
     "output_type": "execute_result"
    }
   ],
   "source": [
    "import threading\n",
    "\n",
    "dir(threading.Event)"
   ]
  },
  {
   "cell_type": "code",
   "execution_count": 2,
   "id": "preliminary-commander",
   "metadata": {},
   "outputs": [
    {
     "name": "stdout",
     "output_type": "stream",
     "text": [
      "None\n"
     ]
    }
   ],
   "source": [
    "def returnNone():\n",
    "    return\n",
    "\n",
    "print(returnNone())"
   ]
  },
  {
   "cell_type": "code",
   "execution_count": null,
   "id": "passing-communications",
   "metadata": {},
   "outputs": [],
   "source": []
  }
 ],
 "metadata": {
  "kernelspec": {
   "display_name": "Python 3",
   "language": "python",
   "name": "python3"
  },
  "language_info": {
   "codemirror_mode": {
    "name": "ipython",
    "version": 3
   },
   "file_extension": ".py",
   "mimetype": "text/x-python",
   "name": "python",
   "nbconvert_exporter": "python",
   "pygments_lexer": "ipython3",
   "version": "3.8.10"
  }
 },
 "nbformat": 4,
 "nbformat_minor": 5
}
