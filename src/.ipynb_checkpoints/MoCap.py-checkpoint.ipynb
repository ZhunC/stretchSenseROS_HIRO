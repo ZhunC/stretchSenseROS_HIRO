{
 "cells": [
  {
   "cell_type": "code",
   "execution_count": 1,
   "metadata": {},
   "outputs": [
    {
     "ename": "BTLEDisconnectError",
     "evalue": "Failed to connect to peripheral de:9c:60:51:f5:bf, addr type: random",
     "output_type": "error",
     "traceback": [
      "\u001b[0;31m---------------------------------------------------------------------------\u001b[0m",
      "\u001b[0;31mBTLEDisconnectError\u001b[0m                       Traceback (most recent call last)",
      "\u001b[0;32m<ipython-input-1-04e293d8d9ec>\u001b[0m in \u001b[0;36m<module>\u001b[0;34m()\u001b[0m\n\u001b[1;32m      4\u001b[0m \u001b[0mprefperi_custom\u001b[0m \u001b[0;34m=\u001b[0m \u001b[0;34m'de:9c:60:51:f5:bf'\u001b[0m\u001b[0;34m\u001b[0m\u001b[0m\n\u001b[1;32m      5\u001b[0m \u001b[0mss\u001b[0m \u001b[0;34m=\u001b[0m \u001b[0mbluepy\u001b[0m\u001b[0;34m.\u001b[0m\u001b[0mbtle\u001b[0m\u001b[0;34m.\u001b[0m\u001b[0mPeripheral\u001b[0m\u001b[0;34m(\u001b[0m\u001b[0;34m)\u001b[0m\u001b[0;34m\u001b[0m\u001b[0m\n\u001b[0;32m----> 6\u001b[0;31m \u001b[0mss\u001b[0m\u001b[0;34m.\u001b[0m\u001b[0mconnect\u001b[0m\u001b[0;34m(\u001b[0m\u001b[0mprefperi_custom\u001b[0m\u001b[0;34m,\u001b[0m\u001b[0;34m'random'\u001b[0m\u001b[0;34m)\u001b[0m\u001b[0;34m\u001b[0m\u001b[0m\n\u001b[0m",
      "\u001b[0;32m/usr/local/lib/python2.7/dist-packages/bluepy/btle.pyc\u001b[0m in \u001b[0;36mconnect\u001b[0;34m(self, addr, addrType, iface)\u001b[0m\n\u001b[1;32m    443\u001b[0m             \u001b[0mself\u001b[0m\u001b[0;34m.\u001b[0m\u001b[0m_connect\u001b[0m\u001b[0;34m(\u001b[0m\u001b[0maddr\u001b[0m\u001b[0;34m.\u001b[0m\u001b[0maddr\u001b[0m\u001b[0;34m,\u001b[0m \u001b[0maddr\u001b[0m\u001b[0;34m.\u001b[0m\u001b[0maddrType\u001b[0m\u001b[0;34m,\u001b[0m \u001b[0maddr\u001b[0m\u001b[0;34m.\u001b[0m\u001b[0miface\u001b[0m\u001b[0;34m)\u001b[0m\u001b[0;34m\u001b[0m\u001b[0m\n\u001b[1;32m    444\u001b[0m         \u001b[0;32melif\u001b[0m \u001b[0maddr\u001b[0m \u001b[0;32mis\u001b[0m \u001b[0;32mnot\u001b[0m \u001b[0mNone\u001b[0m\u001b[0;34m:\u001b[0m\u001b[0;34m\u001b[0m\u001b[0m\n\u001b[0;32m--> 445\u001b[0;31m             \u001b[0mself\u001b[0m\u001b[0;34m.\u001b[0m\u001b[0m_connect\u001b[0m\u001b[0;34m(\u001b[0m\u001b[0maddr\u001b[0m\u001b[0;34m,\u001b[0m \u001b[0maddrType\u001b[0m\u001b[0;34m,\u001b[0m \u001b[0miface\u001b[0m\u001b[0;34m)\u001b[0m\u001b[0;34m\u001b[0m\u001b[0m\n\u001b[0m\u001b[1;32m    446\u001b[0m \u001b[0;34m\u001b[0m\u001b[0m\n\u001b[1;32m    447\u001b[0m     \u001b[0;32mdef\u001b[0m \u001b[0mdisconnect\u001b[0m\u001b[0;34m(\u001b[0m\u001b[0mself\u001b[0m\u001b[0;34m)\u001b[0m\u001b[0;34m:\u001b[0m\u001b[0;34m\u001b[0m\u001b[0m\n",
      "\u001b[0;32m/usr/local/lib/python2.7/dist-packages/bluepy/btle.pyc\u001b[0m in \u001b[0;36m_connect\u001b[0;34m(self, addr, addrType, iface)\u001b[0m\n\u001b[1;32m    437\u001b[0m         \u001b[0;32mif\u001b[0m \u001b[0mrsp\u001b[0m\u001b[0;34m[\u001b[0m\u001b[0;34m'state'\u001b[0m\u001b[0;34m]\u001b[0m\u001b[0;34m[\u001b[0m\u001b[0;36m0\u001b[0m\u001b[0;34m]\u001b[0m \u001b[0;34m!=\u001b[0m \u001b[0;34m'conn'\u001b[0m\u001b[0;34m:\u001b[0m\u001b[0;34m\u001b[0m\u001b[0m\n\u001b[1;32m    438\u001b[0m             \u001b[0mself\u001b[0m\u001b[0;34m.\u001b[0m\u001b[0m_stopHelper\u001b[0m\u001b[0;34m(\u001b[0m\u001b[0;34m)\u001b[0m\u001b[0;34m\u001b[0m\u001b[0m\n\u001b[0;32m--> 439\u001b[0;31m             \u001b[0;32mraise\u001b[0m \u001b[0mBTLEDisconnectError\u001b[0m\u001b[0;34m(\u001b[0m\u001b[0;34m\"Failed to connect to peripheral %s, addr type: %s\"\u001b[0m \u001b[0;34m%\u001b[0m \u001b[0;34m(\u001b[0m\u001b[0maddr\u001b[0m\u001b[0;34m,\u001b[0m \u001b[0maddrType\u001b[0m\u001b[0;34m)\u001b[0m\u001b[0;34m,\u001b[0m \u001b[0mrsp\u001b[0m\u001b[0;34m)\u001b[0m\u001b[0;34m\u001b[0m\u001b[0m\n\u001b[0m\u001b[1;32m    440\u001b[0m \u001b[0;34m\u001b[0m\u001b[0m\n\u001b[1;32m    441\u001b[0m     \u001b[0;32mdef\u001b[0m \u001b[0mconnect\u001b[0m\u001b[0;34m(\u001b[0m\u001b[0mself\u001b[0m\u001b[0;34m,\u001b[0m \u001b[0maddr\u001b[0m\u001b[0;34m,\u001b[0m \u001b[0maddrType\u001b[0m\u001b[0;34m=\u001b[0m\u001b[0mADDR_TYPE_PUBLIC\u001b[0m\u001b[0;34m,\u001b[0m \u001b[0miface\u001b[0m\u001b[0;34m=\u001b[0m\u001b[0mNone\u001b[0m\u001b[0;34m)\u001b[0m\u001b[0;34m:\u001b[0m\u001b[0;34m\u001b[0m\u001b[0m\n",
      "\u001b[0;31mBTLEDisconnectError\u001b[0m: Failed to connect to peripheral de:9c:60:51:f5:bf, addr type: random"
     ]
    }
   ],
   "source": [
    "import bluepy\n",
    "# prefperi_left = 'F8:A6:1C:CB:ED:A6'\n",
    "# prefperi_right = 'F6:B2:2F:08:B9:48'\n",
    "prefperi_custom = 'de:9c:60:51:f5:bf'\n",
    "ss = bluepy.btle.Peripheral()\n",
    "ss.connect(prefperi_custom,'random')"
   ]
  },
  {
   "cell_type": "code",
   "execution_count": 2,
   "metadata": {
    "scrolled": true
   },
   "outputs": [
    {
     "name": "stdout",
     "output_type": "stream",
     "text": [
      "get ready for 0 z, 30 y\n",
      "[   1  257   10 2955]\n",
      "get ready for 0 z, 0 y\n"
     ]
    },
    {
     "ename": "KeyboardInterrupt",
     "evalue": "",
     "output_type": "error",
     "traceback": [
      "\u001b[0;31m---------------------------------------------------------------------------\u001b[0m",
      "\u001b[0;31mKeyboardInterrupt\u001b[0m                         Traceback (most recent call last)",
      "\u001b[0;32m<ipython-input-2-e4c4fe48779e>\u001b[0m in \u001b[0;36m<module>\u001b[0;34m()\u001b[0m\n\u001b[1;32m     27\u001b[0m \u001b[0;32mfor\u001b[0m \u001b[0mi\u001b[0m \u001b[0;32min\u001b[0m \u001b[0mgestures\u001b[0m\u001b[0;34m:\u001b[0m\u001b[0;34m\u001b[0m\u001b[0m\n\u001b[1;32m     28\u001b[0m     \u001b[0;32mprint\u001b[0m\u001b[0;34m(\u001b[0m\u001b[0;34m'get ready for '\u001b[0m \u001b[0;34m+\u001b[0m \u001b[0mi\u001b[0m\u001b[0;34m)\u001b[0m\u001b[0;34m\u001b[0m\u001b[0m\n\u001b[0;32m---> 29\u001b[0;31m     \u001b[0msleep\u001b[0m\u001b[0;34m(\u001b[0m\u001b[0;36m4\u001b[0m\u001b[0;34m)\u001b[0m\u001b[0;34m\u001b[0m\u001b[0m\n\u001b[0m\u001b[1;32m     30\u001b[0m     \u001b[0mvalue\u001b[0m \u001b[0;34m=\u001b[0m \u001b[0mss\u001b[0m\u001b[0;34m.\u001b[0m\u001b[0mreadCharacteristic\u001b[0m\u001b[0;34m(\u001b[0m\u001b[0;36m16\u001b[0m\u001b[0;34m)\u001b[0m\u001b[0;34m\u001b[0m\u001b[0m\n\u001b[1;32m     31\u001b[0m     \u001b[0mdecimalValue\u001b[0m \u001b[0;34m=\u001b[0m \u001b[0;34m(\u001b[0m\u001b[0mbinascii\u001b[0m\u001b[0;34m.\u001b[0m\u001b[0mb2a_hex\u001b[0m\u001b[0;34m(\u001b[0m\u001b[0mvalue\u001b[0m\u001b[0;34m)\u001b[0m\u001b[0;34m)\u001b[0m\u001b[0;34m\u001b[0m\u001b[0m\n",
      "\u001b[0;31mKeyboardInterrupt\u001b[0m: "
     ]
    }
   ],
   "source": [
    "import binascii\n",
    "import numpy as np\n",
    "from collections import deque\n",
    "from time import sleep\n",
    "values = deque()\n",
    "\n",
    "                    \n",
    "gestures = {\n",
    "    '0 z, 0 y':    [0, 0], #0 z, 0 y\n",
    "    '0 z, -45 y':  [0, -45], #0 z, -45 y\n",
    "    '-45 z, 0 y':  [-45, 0], #Rotate thumb hand open (target thumb)\n",
    "    '0 z, 30 y':   [0, 30], #Rotate thumb hand open (target thumb)\n",
    "}\n",
    "\n",
    "                #1 s1 th s2\n",
    "result = {\n",
    "    '0 z, 0 y': [ 1, 127, 275, 132], #0 z, 0 y\n",
    "    '0 z, -45 y':  [ 1, 127, 270, 132], #0 z, -45 y\n",
    "    '-45 z, 0 y': [ 1, 133, 288, 137], #Rotate thumb hand open (target thumb)\n",
    "    '0 z, 30 y': [ 1, 124, 276, 132], #Rotate thumb hand open (target thumb)\n",
    "}\n",
    "\n",
    "\n",
    "# handle = i.getHandle()\n",
    "# if handle == 12 or handle == 55:\n",
    "#     continue\n",
    "for i in gestures:\n",
    "    print('get ready for ' + i)\n",
    "    sleep(4)\n",
    "    value = ss.readCharacteristic(16)\n",
    "    decimalValue = (binascii.b2a_hex(value))\n",
    "    splitted = [decimalValue[j:j+4] for j in range(0, len(decimalValue),4)]\n",
    "    val = np.array(list(map(lambda x: int((x),16)/10, splitted)))\n",
    "    idx = np.nonzero(val)\n",
    "    val = val[idx][:-1]\n",
    "    val = np.insert(val, 0, 1)\n",
    "#     print('splayL thumb splayR')\n",
    "    print(val[0:4])\n",
    "    result[i] = val[0:4]\n",
    "#     print('2 seconds')\n",
    "#     sleep(2)"
   ]
  },
  {
   "cell_type": "code",
   "execution_count": 85,
   "metadata": {},
   "outputs": [
    {
     "data": {
      "text/plain": [
       "{'-45 z, 0 y': array([  1, 139, 297, 141]),\n",
       " '0 z, -45 y': array([  1, 125, 267, 131]),\n",
       " '0 z, 0 y': array([  1, 125, 272, 133]),\n",
       " '0 z, 30 y': array([  1, 134, 296, 141])}"
      ]
     },
     "execution_count": 85,
     "metadata": {},
     "output_type": "execute_result"
    }
   ],
   "source": [
    "result"
   ]
  },
  {
   "cell_type": "code",
   "execution_count": 25,
   "metadata": {},
   "outputs": [
    {
     "name": "stdout",
     "output_type": "stream",
     "text": [
      "((4, 3), (4,))\n",
      "((4, 3), (4,))\n",
      "[[0.0, -7.5691244239631308, 6.9988479262672749, 23.070276497696341], [2.7272727272726915, 131.59090909090824, -43.636363636363285, -5973.4090909090701]]\n"
     ]
    }
   ],
   "source": [
    "import numpy as np\n",
    "from sklearn import linear_model\n",
    "\n",
    "gestures = [\n",
    "    [0, 0], #0 z, 0 y\n",
    "    [0, -45], #0 z, -45 y\n",
    "    [-45, 0], #Rotate thumb hand open (target thumb)\n",
    "    [0, 30] #Rotate thumb hand open (target thumb)\n",
    "]\n",
    "\n",
    "                #1 s1 th s2\n",
    "result = [\n",
    "    [1, 125, 133, 272], #0 z, 0 y\n",
    "    [1, 125, 131, 267], #0 z, -45 y\n",
    "    [1, 139, 141, 297], #Rotate thumb hand open (target thumb)\n",
    "    [1, 134, 141, 296] #Rotate thumb hand open (target thumb)\n",
    "]\n",
    "\n",
    "theta = [] # np.zeros((len(gestures[0]), 3))\n",
    "\n",
    "def getColumnY(Array, index):\n",
    "    col = np.zeros(len(Array))\n",
    "\n",
    "    for i in range(0, len(Array)):\n",
    "        col[i] = Array[i][index]\n",
    "\n",
    "    return col\n",
    "\n",
    "def getColumnRes(Array, index):\n",
    "    col = np.zeros((len(Array), 3))\n",
    "    for i in range(0, len(Array)):\n",
    "        col[i] = [x for x in Array[i][index:index+3]]\n",
    "\n",
    "    return col\n",
    "\n",
    "def ApplyTransformation(inputt, theta):\n",
    "    result = np.zeros(len(theta))\n",
    "    for i in range(len(theta)):\n",
    "        result[i] = (inputt[i] * theta[i][0]) + theta[i][1]\n",
    "    return result\n",
    "\n",
    "for i in range(0, len(gestures[0])):\n",
    "    y = getColumnY(gestures, i)\n",
    "    x = getColumnRes(result, i)\n",
    "    print(x.shape, y.shape)\n",
    "#     x = np.array([x])\n",
    "    regr = linear_model.LinearRegression()\n",
    "    regr.fit(x,y)\n",
    "    theta.append([x for x in regr.coef_])\n",
    "    theta[i].append(regr.intercept_)\n",
    "\n",
    "print(theta)\n",
    "    \n"
   ]
  },
  {
   "cell_type": "code",
   "execution_count": 7,
   "metadata": {},
   "outputs": [
    {
     "data": {
      "text/plain": [
       "array([  0.00000000e+00,  -4.50000000e+01,   1.81898940e-12,\n",
       "         3.00000000e+01])"
      ]
     },
     "execution_count": 7,
     "metadata": {},
     "output_type": "execute_result"
    }
   ],
   "source": [
    "regr.predict(x)"
   ]
  },
  {
   "cell_type": "code",
   "execution_count": 8,
   "metadata": {},
   "outputs": [
    {
     "data": {
      "text/plain": [
       "29.999999160931111"
      ]
     },
     "execution_count": 8,
     "metadata": {},
     "output_type": "execute_result"
    }
   ],
   "source": [
    "thet = [2.72727273,  131.59090909,  -43.63636364, -5973.4090909090701]\n",
    "res = [134,  141,  296, 1]\n",
    "out = np.dot(thet, res)\n",
    "out"
   ]
  },
  {
   "cell_type": "code",
   "execution_count": 126,
   "metadata": {},
   "outputs": [
    {
     "name": "stdout",
     "output_type": "stream",
     "text": [
      "[1 2 3 4]\n"
     ]
    },
    {
     "data": {
      "text/plain": [
       "['ss.joblib']"
      ]
     },
     "execution_count": 126,
     "metadata": {},
     "output_type": "execute_result"
    }
   ],
   "source": [
    "from sklearn.linear_model import LinearRegression\n",
    "from joblib import dump, load\n",
    "regr = LinearRegression()\n",
    "X = np.array([[1, 1, 2], [1, 2, 2], [2, 2, 4], [2, 3, 5]])\n",
    "# y = np.dot(X, np.array([1, 2, 3]))\n",
    "y = np.array([1, 2, 3, 4])\n",
    "print(y)\n",
    "regr.fit(X,y)\n",
    "regr.coef_\n",
    "dump(regr, 'ss.joblib')"
   ]
  },
  {
   "cell_type": "code",
   "execution_count": 65,
   "metadata": {},
   "outputs": [
    {
     "data": {
      "text/plain": [
       "LinearRegression(copy_X=True, fit_intercept=True, n_jobs=None,\n",
       "         normalize=False)"
      ]
     },
     "execution_count": 65,
     "metadata": {},
     "output_type": "execute_result"
    }
   ],
   "source": [
    "load('ss.joblib')"
   ]
  },
  {
   "cell_type": "code",
   "execution_count": 9,
   "metadata": {},
   "outputs": [],
   "source": [
    "ss.disconnect()"
   ]
  },
  {
   "cell_type": "code",
   "execution_count": 8,
   "metadata": {},
   "outputs": [
    {
     "data": {
      "text/plain": [
       "[1, 2, 3]"
      ]
     },
     "execution_count": 8,
     "metadata": {},
     "output_type": "execute_result"
    }
   ],
   "source": [
    "arr = np.array([1,2,3])\n",
    "arr.tolist()"
   ]
  },
  {
   "cell_type": "code",
   "execution_count": 23,
   "metadata": {},
   "outputs": [
    {
     "data": {
      "text/plain": [
       "16"
      ]
     },
     "execution_count": 23,
     "metadata": {},
     "output_type": "execute_result"
    }
   ],
   "source": [
    "TrainingName = [\"close fist\", \"thumb up\", \"Thumb up, pinky out\", \"Open hand\", \"tuck thumb\", \"tuck thumb in fist\", \"ok sign\", \"touch middle finger\",\n",
    "                \"touch middle finger and ring finger\", \"Spread hand open (target thumb)\", \"Rotate thumb hand open (target thumb)\",\"Rotate thumb hand open (target thumb)\", \"Rotate thumb hand open (target thumb)\",\n",
    "                \"Rotate thumb hand open (target thumb)\", \"Rotate thumb hand open (target thumb)\", \"Thumb over fist\"]\n",
    "len(TrainingName)"
   ]
  },
  {
   "cell_type": "code",
   "execution_count": 1,
   "metadata": {},
   "outputs": [
    {
     "data": {
      "text/plain": [
       "16"
      ]
     },
     "execution_count": 1,
     "metadata": {},
     "output_type": "execute_result"
    }
   ],
   "source": [
    "TrainingY = [\n",
    "  [ 0, 0, 0, -15, -90, -90, -90, -90], #Close fist\n",
    "  [ 0, -15, -60, 0, -90, -90, -90, -90], #Thumb up\n",
    "  [ 0, -15, -60, 0, -90, -90, -90, 0], #Thumb up, pinky out\n",
    "  [ 0, -15, -60, 0, 0, 0, 0, 0], #Open hand\n",
    "  [ 0, -15, 0, 40, 0, 0, 0, 0], #Tuck thumb\n",
    "  [ 0, -15, 0, 40, -80, -80, -80, -80], #Tuck thumb in fist\n",
    "  [ -35, 55, -65, 30, -55, 0, 0, 0], #ok sign\n",
    "  [ -60, 33, -35, 30, 0, -60, 0, 0], #touch middle finger\n",
    "  [ -60, 33, -35, 30, 0, -60, -60, 0], #touch middle finger and ring finger\n",
    "  [ 0, -15, -60, 0, 0, 0, 0, 0], #Spread hand open (target thumb)\n",
    "  [ 0, 30, -60, 0, 0, 0, 0, 0], #Rotate thumb hand open (target thumb)\n",
    "  [ 0, 60, -60, 0, 0, 0, 0, 0], #Rotate thumb hand open (target thumb)\n",
    "  [ 0, 60, -45, 0, 0, 0, 0, 0], #Rotate thumb hand open (target thumb)\n",
    "  [ 0, 15, -15, 0, 0, 0, 0, 0], #Rotate thumb hand open (target thumb)\n",
    "  [ 0, 0, 0, 0, 0, 0, 0, 0], #Rotate thumb hand open (target thumb)\n",
    "  [ -15, 90, -45, 0, -90, -90, -90, -90], #Thumb over fist\n",
    "]\n",
    "\n",
    "len(TrainingY)"
   ]
  },
  {
   "cell_type": "code",
   "execution_count": 26,
   "metadata": {},
   "outputs": [
    {
     "data": {
      "text/plain": [
       "'renewing recording for lv in 5.600000'"
      ]
     },
     "execution_count": 26,
     "metadata": {},
     "output_type": "execute_result"
    }
   ],
   "source": [
    "'renewing recording for %s in %f' % ('lv', 5.6)"
   ]
  },
  {
   "cell_type": "code",
   "execution_count": 27,
   "metadata": {},
   "outputs": [
    {
     "data": {
      "text/plain": [
       "True"
      ]
     },
     "execution_count": 27,
     "metadata": {},
     "output_type": "execute_result"
    }
   ],
   "source": [
    "i = 2\n",
    "i in [2,3]"
   ]
  },
  {
   "cell_type": "code",
   "execution_count": 47,
   "metadata": {},
   "outputs": [
    {
     "name": "stdout",
     "output_type": "stream",
     "text": [
      "(0.0, 0.0)\n",
      "(-3.4686306061673795, 430.61215582599601)\n",
      "(4.5693136574591602, -1392.8826920239801)\n",
      "(12.28031279630776, -1642.5154794088778)\n",
      "(-3.20731727015374, 897.32245800811802)\n",
      "(-2.4769912333488997, 764.17091368849003)\n",
      "(-4.9581329487244803, 1328.1360939369279)\n",
      "(-3.4514743693548398, 999.19295959866395)\n"
     ]
    }
   ],
   "source": [
    "import pandas as pd\n",
    "theta = pd.read_csv('theta_ss.csv')\n",
    "theta\n",
    "\n",
    "for index, row in theta.iterrows():\n",
    "    print(row['a'], row['b'])"
   ]
  },
  {
   "cell_type": "code",
   "execution_count": 123,
   "metadata": {},
   "outputs": [
    {
     "name": "stdout",
     "output_type": "stream",
     "text": [
      "Characteristic <Device Name>\n",
      "3\n",
      "Characteristic <Appearance>\n",
      "5\n",
      "Characteristic <Peripheral Preferred Connection Parameters>\n",
      "7\n",
      "Characteristic <Central Address Resolution>\n",
      "9\n",
      "Characteristic <Service Changed>\n",
      "12\n",
      "Characteristic <00001902-7374-7265-7563-6873656e7365>\n",
      "16\n",
      "Characteristic <00001903-7374-7265-7563-6873656e7365>\n",
      "19\n",
      "Characteristic <00001904-7374-7265-7563-6873656e7365>\n",
      "22\n",
      "Characteristic <00001920-7374-7265-7563-6873656e7365>\n",
      "25\n",
      "Characteristic <00001921-7374-7265-7563-6873656e7365>\n",
      "27\n",
      "Characteristic <00001922-7374-7265-7563-6873656e7365>\n",
      "29\n",
      "Characteristic <00001923-7374-7265-7563-6873656e7365>\n",
      "31\n",
      "Characteristic <00001924-7374-7265-7563-6873656e7365>\n",
      "33\n",
      "Characteristic <00001925-7374-7265-7563-6873656e7365>\n",
      "35\n",
      "Characteristic <00001926-7374-7265-7563-6873656e7365>\n",
      "37\n",
      "Characteristic <00001927-7374-7265-7563-6873656e7365>\n",
      "39\n",
      "Characteristic <00001928-7374-7265-7563-6873656e7365>\n",
      "41\n",
      "Characteristic <Manufacturer Name String>\n",
      "44\n",
      "Characteristic <Serial Number String>\n",
      "46\n",
      "Characteristic <Hardware Revision String>\n",
      "48\n",
      "Characteristic <Firmware Revision String>\n",
      "50\n",
      "Characteristic <Software Revision String>\n",
      "52\n",
      "Characteristic <8ec90003-f315-4f60-9fb8-838830daea50>\n",
      "55\n",
      "Characteristic <Battery Level>\n",
      "59\n"
     ]
    }
   ],
   "source": [
    "handles = []\n",
    "for i in ss.getCharacteristics():  \n",
    "    try:\n",
    "        print(i)\n",
    "        print(i.valHandle)\n",
    "    except:\n",
    "        pass"
   ]
  },
  {
   "cell_type": "code",
   "execution_count": 7,
   "metadata": {},
   "outputs": [
    {
     "ename": "BTLEInternalError",
     "evalue": "Helper not started (did you call connect()?)",
     "output_type": "error",
     "traceback": [
      "\u001b[0;31m---------------------------------------------------------------------------\u001b[0m",
      "\u001b[0;31mBTLEInternalError\u001b[0m                         Traceback (most recent call last)",
      "\u001b[0;32m<ipython-input-7-733fbd335745>\u001b[0m in \u001b[0;36m<module>\u001b[0;34m()\u001b[0m\n\u001b[1;32m      2\u001b[0m \u001b[0;32mimport\u001b[0m \u001b[0mnumpy\u001b[0m \u001b[0;32mas\u001b[0m \u001b[0mnp\u001b[0m\u001b[0;34m\u001b[0m\u001b[0m\n\u001b[1;32m      3\u001b[0m \u001b[0;34m\u001b[0m\u001b[0m\n\u001b[0;32m----> 4\u001b[0;31m \u001b[0;32mfor\u001b[0m \u001b[0mi\u001b[0m \u001b[0;32min\u001b[0m \u001b[0mss\u001b[0m\u001b[0;34m.\u001b[0m\u001b[0mgetCharacteristics\u001b[0m\u001b[0;34m(\u001b[0m\u001b[0;34m)\u001b[0m\u001b[0;34m:\u001b[0m\u001b[0;34m\u001b[0m\u001b[0m\n\u001b[0m\u001b[1;32m      5\u001b[0m     \u001b[0;32mtry\u001b[0m\u001b[0;34m:\u001b[0m\u001b[0;34m\u001b[0m\u001b[0m\n\u001b[1;32m      6\u001b[0m         \u001b[0;32mif\u001b[0m \u001b[0mi\u001b[0m\u001b[0;34m.\u001b[0m\u001b[0mvalHandle\u001b[0m \u001b[0;32min\u001b[0m \u001b[0mrange\u001b[0m\u001b[0;34m(\u001b[0m\u001b[0;36m16\u001b[0m\u001b[0;34m,\u001b[0m\u001b[0;36m42\u001b[0m\u001b[0;34m)\u001b[0m\u001b[0;34m:\u001b[0m\u001b[0;34m\u001b[0m\u001b[0m\n",
      "\u001b[0;32m/usr/local/lib/python2.7/dist-packages/bluepy/btle.pyc\u001b[0m in \u001b[0;36mgetCharacteristics\u001b[0;34m(self, startHnd, endHnd, uuid)\u001b[0m\n\u001b[1;32m    505\u001b[0m         \u001b[0;32mif\u001b[0m \u001b[0muuid\u001b[0m\u001b[0;34m:\u001b[0m\u001b[0;34m\u001b[0m\u001b[0m\n\u001b[1;32m    506\u001b[0m             \u001b[0mcmd\u001b[0m \u001b[0;34m+=\u001b[0m \u001b[0;34m' %s'\u001b[0m \u001b[0;34m%\u001b[0m \u001b[0mUUID\u001b[0m\u001b[0;34m(\u001b[0m\u001b[0muuid\u001b[0m\u001b[0;34m)\u001b[0m\u001b[0;34m\u001b[0m\u001b[0m\n\u001b[0;32m--> 507\u001b[0;31m         \u001b[0mself\u001b[0m\u001b[0;34m.\u001b[0m\u001b[0m_writeCmd\u001b[0m\u001b[0;34m(\u001b[0m\u001b[0mcmd\u001b[0m \u001b[0;34m+\u001b[0m \u001b[0;34m\"\\n\"\u001b[0m\u001b[0;34m)\u001b[0m\u001b[0;34m\u001b[0m\u001b[0m\n\u001b[0m\u001b[1;32m    508\u001b[0m         \u001b[0mrsp\u001b[0m \u001b[0;34m=\u001b[0m \u001b[0mself\u001b[0m\u001b[0;34m.\u001b[0m\u001b[0m_getResp\u001b[0m\u001b[0;34m(\u001b[0m\u001b[0;34m'find'\u001b[0m\u001b[0;34m)\u001b[0m\u001b[0;34m\u001b[0m\u001b[0m\n\u001b[1;32m    509\u001b[0m         \u001b[0mnChars\u001b[0m \u001b[0;34m=\u001b[0m \u001b[0mlen\u001b[0m\u001b[0;34m(\u001b[0m\u001b[0mrsp\u001b[0m\u001b[0;34m[\u001b[0m\u001b[0;34m'hnd'\u001b[0m\u001b[0;34m]\u001b[0m\u001b[0;34m)\u001b[0m\u001b[0;34m\u001b[0m\u001b[0m\n",
      "\u001b[0;32m/usr/local/lib/python2.7/dist-packages/bluepy/btle.pyc\u001b[0m in \u001b[0;36m_writeCmd\u001b[0;34m(self, cmd)\u001b[0m\n\u001b[1;32m    300\u001b[0m     \u001b[0;32mdef\u001b[0m \u001b[0m_writeCmd\u001b[0m\u001b[0;34m(\u001b[0m\u001b[0mself\u001b[0m\u001b[0;34m,\u001b[0m \u001b[0mcmd\u001b[0m\u001b[0;34m)\u001b[0m\u001b[0;34m:\u001b[0m\u001b[0;34m\u001b[0m\u001b[0m\n\u001b[1;32m    301\u001b[0m         \u001b[0;32mif\u001b[0m \u001b[0mself\u001b[0m\u001b[0;34m.\u001b[0m\u001b[0m_helper\u001b[0m \u001b[0;32mis\u001b[0m \u001b[0mNone\u001b[0m\u001b[0;34m:\u001b[0m\u001b[0;34m\u001b[0m\u001b[0m\n\u001b[0;32m--> 302\u001b[0;31m             \u001b[0;32mraise\u001b[0m \u001b[0mBTLEInternalError\u001b[0m\u001b[0;34m(\u001b[0m\u001b[0;34m\"Helper not started (did you call connect()?)\"\u001b[0m\u001b[0;34m)\u001b[0m\u001b[0;34m\u001b[0m\u001b[0m\n\u001b[0m\u001b[1;32m    303\u001b[0m         \u001b[0mDBG\u001b[0m\u001b[0;34m(\u001b[0m\u001b[0;34m\"Sent: \"\u001b[0m\u001b[0;34m,\u001b[0m \u001b[0mcmd\u001b[0m\u001b[0;34m)\u001b[0m\u001b[0;34m\u001b[0m\u001b[0m\n\u001b[1;32m    304\u001b[0m         \u001b[0mself\u001b[0m\u001b[0;34m.\u001b[0m\u001b[0m_helper\u001b[0m\u001b[0;34m.\u001b[0m\u001b[0mstdin\u001b[0m\u001b[0;34m.\u001b[0m\u001b[0mwrite\u001b[0m\u001b[0;34m(\u001b[0m\u001b[0mcmd\u001b[0m\u001b[0;34m)\u001b[0m\u001b[0;34m\u001b[0m\u001b[0m\n",
      "\u001b[0;31mBTLEInternalError\u001b[0m: Helper not started (did you call connect()?)"
     ]
    }
   ],
   "source": [
    "import binascii\n",
    "import numpy as np\n",
    "\n",
    "for i in ss.getCharacteristics():  \n",
    "    try:\n",
    "        if i.valHandle in range(16,42):\n",
    "            print(i.uuid)\n",
    "            handle = i.valHandle\n",
    "            print('handle ', handle)\n",
    "            value = ss.readCharacteristic(handle)\n",
    "            decimalValue = (binascii.b2a_hex(value))\n",
    "            print(decimalValue)\n",
    "            splitted = [decimalValue[i:i+4] for i in range(0, len(decimalValue),4)]\n",
    "            val = np.array(list(map(lambda x: int((x),16), splitted)))\n",
    "\n",
    "            print(val)\n",
    "            print('\\n')\n",
    "    except:\n",
    "        pass   \n",
    "    \n",
    "\n"
   ]
  },
  {
   "cell_type": "code",
   "execution_count": 126,
   "metadata": {
    "scrolled": true
   },
   "outputs": [
    {
     "data": {
      "text/plain": [
       "90"
      ]
     },
     "execution_count": 126,
     "metadata": {},
     "output_type": "execute_result"
    }
   ],
   "source": [
    "value = b\"\\x5a\"\n",
    "ss.writeCharacteristic(29, value)\n",
    "res = ss.readCharacteristic(29)\n",
    "decimalValue = (binascii.b2a_hex(res))\n",
    "decimalValue = int(decimalValue,16)\n",
    "decimalValue"
   ]
  },
  {
   "cell_type": "code",
   "execution_count": 50,
   "metadata": {},
   "outputs": [
    {
     "name": "stdout",
     "output_type": "stream",
     "text": [
      " 320.00000000Waiting...\n",
      "Waiting...\n",
      "Waiting...\n",
      "Waiting...\n"
     ]
    },
    {
     "ename": "BTLEDisconnectError",
     "evalue": "Device disconnected",
     "output_type": "error",
     "traceback": [
      "\u001b[0;31m---------------------------------------------------------------------------\u001b[0m",
      "\u001b[0;31mBTLEDisconnectError\u001b[0m                       Traceback (most recent call last)",
      "\u001b[0;32m<ipython-input-50-fb01305049e5>\u001b[0m in \u001b[0;36m<module>\u001b[0;34m()\u001b[0m\n\u001b[1;32m     31\u001b[0m \u001b[0;34m\u001b[0m\u001b[0m\n\u001b[1;32m     32\u001b[0m \u001b[0;32mwhile\u001b[0m \u001b[0mTrue\u001b[0m\u001b[0;34m:\u001b[0m\u001b[0;34m\u001b[0m\u001b[0m\n\u001b[0;32m---> 33\u001b[0;31m     \u001b[0;32mif\u001b[0m \u001b[0mp\u001b[0m\u001b[0;34m.\u001b[0m\u001b[0mwaitForNotifications\u001b[0m\u001b[0;34m(\u001b[0m\u001b[0;36m0.9\u001b[0m\u001b[0;34m)\u001b[0m\u001b[0;34m:\u001b[0m\u001b[0;34m\u001b[0m\u001b[0m\n\u001b[0m\u001b[1;32m     34\u001b[0m         \u001b[0;32mcontinue\u001b[0m\u001b[0;34m\u001b[0m\u001b[0m\n\u001b[1;32m     35\u001b[0m     \u001b[0;32mprint\u001b[0m \u001b[0;34m\"Waiting...\"\u001b[0m\u001b[0;34m\u001b[0m\u001b[0m\n",
      "\u001b[0;32m/usr/local/lib/python2.7/dist-packages/bluepy/btle.pyc\u001b[0m in \u001b[0;36mwaitForNotifications\u001b[0;34m(self, timeout)\u001b[0m\n\u001b[1;32m    558\u001b[0m \u001b[0;34m\u001b[0m\u001b[0m\n\u001b[1;32m    559\u001b[0m     \u001b[0;32mdef\u001b[0m \u001b[0mwaitForNotifications\u001b[0m\u001b[0;34m(\u001b[0m\u001b[0mself\u001b[0m\u001b[0;34m,\u001b[0m \u001b[0mtimeout\u001b[0m\u001b[0;34m)\u001b[0m\u001b[0;34m:\u001b[0m\u001b[0;34m\u001b[0m\u001b[0m\n\u001b[0;32m--> 560\u001b[0;31m          \u001b[0mresp\u001b[0m \u001b[0;34m=\u001b[0m \u001b[0mself\u001b[0m\u001b[0;34m.\u001b[0m\u001b[0m_getResp\u001b[0m\u001b[0;34m(\u001b[0m\u001b[0;34m[\u001b[0m\u001b[0;34m'ntfy'\u001b[0m\u001b[0;34m,\u001b[0m\u001b[0;34m'ind'\u001b[0m\u001b[0;34m]\u001b[0m\u001b[0;34m,\u001b[0m \u001b[0mtimeout\u001b[0m\u001b[0;34m)\u001b[0m\u001b[0;34m\u001b[0m\u001b[0m\n\u001b[0m\u001b[1;32m    561\u001b[0m          \u001b[0;32mreturn\u001b[0m \u001b[0;34m(\u001b[0m\u001b[0mresp\u001b[0m \u001b[0;34m!=\u001b[0m \u001b[0mNone\u001b[0m\u001b[0;34m)\u001b[0m\u001b[0;34m\u001b[0m\u001b[0m\n\u001b[1;32m    562\u001b[0m     \u001b[0;32mdef\u001b[0m \u001b[0m_setRemoteOOB\u001b[0m\u001b[0;34m(\u001b[0m\u001b[0mself\u001b[0m\u001b[0;34m,\u001b[0m \u001b[0maddress\u001b[0m\u001b[0;34m,\u001b[0m \u001b[0maddress_type\u001b[0m\u001b[0;34m,\u001b[0m \u001b[0moob_data\u001b[0m\u001b[0;34m,\u001b[0m \u001b[0miface\u001b[0m\u001b[0;34m=\u001b[0m\u001b[0mNone\u001b[0m\u001b[0;34m)\u001b[0m\u001b[0;34m:\u001b[0m\u001b[0;34m\u001b[0m\u001b[0m\n",
      "\u001b[0;32m/usr/local/lib/python2.7/dist-packages/bluepy/btle.pyc\u001b[0m in \u001b[0;36m_getResp\u001b[0;34m(self, wantType, timeout)\u001b[0m\n\u001b[1;32m    405\u001b[0m \u001b[0;34m\u001b[0m\u001b[0m\n\u001b[1;32m    406\u001b[0m         \u001b[0;32mwhile\u001b[0m \u001b[0mTrue\u001b[0m\u001b[0;34m:\u001b[0m\u001b[0;34m\u001b[0m\u001b[0m\n\u001b[0;32m--> 407\u001b[0;31m             \u001b[0mresp\u001b[0m \u001b[0;34m=\u001b[0m \u001b[0mself\u001b[0m\u001b[0;34m.\u001b[0m\u001b[0m_waitResp\u001b[0m\u001b[0;34m(\u001b[0m\u001b[0mwantType\u001b[0m \u001b[0;34m+\u001b[0m \u001b[0;34m[\u001b[0m\u001b[0;34m'ntfy'\u001b[0m\u001b[0;34m,\u001b[0m \u001b[0;34m'ind'\u001b[0m\u001b[0;34m]\u001b[0m\u001b[0;34m,\u001b[0m \u001b[0mtimeout\u001b[0m\u001b[0;34m)\u001b[0m\u001b[0;34m\u001b[0m\u001b[0m\n\u001b[0m\u001b[1;32m    408\u001b[0m             \u001b[0;32mif\u001b[0m \u001b[0mresp\u001b[0m \u001b[0;32mis\u001b[0m \u001b[0mNone\u001b[0m\u001b[0;34m:\u001b[0m\u001b[0;34m\u001b[0m\u001b[0m\n\u001b[1;32m    409\u001b[0m                 \u001b[0;32mreturn\u001b[0m \u001b[0mNone\u001b[0m\u001b[0;34m\u001b[0m\u001b[0m\n",
      "\u001b[0;32m/usr/local/lib/python2.7/dist-packages/bluepy/btle.pyc\u001b[0m in \u001b[0;36m_waitResp\u001b[0;34m(self, wantType, timeout)\u001b[0m\n\u001b[1;32m    360\u001b[0m                 \u001b[0;32mif\u001b[0m \u001b[0;34m'state'\u001b[0m \u001b[0;32min\u001b[0m \u001b[0mresp\u001b[0m \u001b[0;32mand\u001b[0m \u001b[0mlen\u001b[0m\u001b[0;34m(\u001b[0m\u001b[0mresp\u001b[0m\u001b[0;34m[\u001b[0m\u001b[0;34m'state'\u001b[0m\u001b[0;34m]\u001b[0m\u001b[0;34m)\u001b[0m \u001b[0;34m>\u001b[0m \u001b[0;36m0\u001b[0m \u001b[0;32mand\u001b[0m \u001b[0mresp\u001b[0m\u001b[0;34m[\u001b[0m\u001b[0;34m'state'\u001b[0m\u001b[0;34m]\u001b[0m\u001b[0;34m[\u001b[0m\u001b[0;36m0\u001b[0m\u001b[0;34m]\u001b[0m \u001b[0;34m==\u001b[0m \u001b[0;34m'disc'\u001b[0m\u001b[0;34m:\u001b[0m\u001b[0;34m\u001b[0m\u001b[0m\n\u001b[1;32m    361\u001b[0m                     \u001b[0mself\u001b[0m\u001b[0;34m.\u001b[0m\u001b[0m_stopHelper\u001b[0m\u001b[0;34m(\u001b[0m\u001b[0;34m)\u001b[0m\u001b[0;34m\u001b[0m\u001b[0m\n\u001b[0;32m--> 362\u001b[0;31m                     \u001b[0;32mraise\u001b[0m \u001b[0mBTLEDisconnectError\u001b[0m\u001b[0;34m(\u001b[0m\u001b[0;34m\"Device disconnected\"\u001b[0m\u001b[0;34m,\u001b[0m \u001b[0mresp\u001b[0m\u001b[0;34m)\u001b[0m\u001b[0;34m\u001b[0m\u001b[0m\n\u001b[0m\u001b[1;32m    363\u001b[0m             \u001b[0;32melif\u001b[0m \u001b[0mrespType\u001b[0m \u001b[0;34m==\u001b[0m \u001b[0;34m'err'\u001b[0m\u001b[0;34m:\u001b[0m\u001b[0;34m\u001b[0m\u001b[0m\n\u001b[1;32m    364\u001b[0m                 \u001b[0merrcode\u001b[0m\u001b[0;34m=\u001b[0m\u001b[0mresp\u001b[0m\u001b[0;34m[\u001b[0m\u001b[0;34m'code'\u001b[0m\u001b[0;34m]\u001b[0m\u001b[0;34m[\u001b[0m\u001b[0;36m0\u001b[0m\u001b[0;34m]\u001b[0m\u001b[0;34m\u001b[0m\u001b[0m\n",
      "\u001b[0;31mBTLEDisconnectError\u001b[0m: Device disconnected"
     ]
    }
   ],
   "source": [
    "from bluepy import btle\n",
    "import binascii\n",
    "import sys\n",
    "\n",
    "class MyDelegate(btle.DefaultDelegate):\n",
    "    def __init__(self, params):\n",
    "        btle.DefaultDelegate.__init__(self)\n",
    "        # ... initialise here\n",
    "\n",
    "    def handleNotification(self, cHandle, data):\n",
    "        decimalValue = (binascii.b2a_hex(data))\n",
    "#         decimalValue = int(decimalValue,16)\n",
    "        splitted = [decimalValue[i:i+4] for i in range(0, len(decimalValue),4)]\n",
    "        val = np.array(list(map(lambda x: int((x),16), splitted)))\n",
    "        sys.stdout.write(\"\\r %f\" % val[0])\n",
    "        sys.stdout.flush()\n",
    "\n",
    "try:\n",
    "    p.disconnect()\n",
    "except:\n",
    "    pass\n",
    "# Initialisation  -------\n",
    "address = 'de:9c:60:51:f5:bf' #'F8:A6:1C:CB:ED:A6'\n",
    "p = btle.Peripheral( address, 'random' )\n",
    "p.withDelegate( MyDelegate(p) )\n",
    "\n",
    "svc = p.getServiceByUUID('00001701-7374-7265-7563-6873656e7365')\n",
    "char = svc.getCharacteristics()[0]\n",
    "handle = char.valHandle\n",
    "p.writeCharacteristic(handle+1, b'\\x01\\x00')\n",
    "\n",
    "while True:\n",
    "    if p.waitForNotifications(0.9):\n",
    "        continue\n",
    "    print \"Waiting...\""
   ]
  },
  {
   "cell_type": "code",
   "execution_count": 44,
   "metadata": {},
   "outputs": [
    {
     "ename": "BTLEInternalError",
     "evalue": "Helper not started (did you call connect()?)",
     "output_type": "error",
     "traceback": [
      "\u001b[0;31m---------------------------------------------------------------------------\u001b[0m",
      "\u001b[0;31mBTLEInternalError\u001b[0m                         Traceback (most recent call last)",
      "\u001b[0;32m<ipython-input-44-ef5ad2ac9ae6>\u001b[0m in \u001b[0;36m<module>\u001b[0;34m()\u001b[0m\n\u001b[1;32m      1\u001b[0m \u001b[0msvc\u001b[0m \u001b[0;34m=\u001b[0m \u001b[0mss\u001b[0m\u001b[0;34m.\u001b[0m\u001b[0mgetServiceByUUID\u001b[0m\u001b[0;34m(\u001b[0m\u001b[0;34m'00001701-7374-7265-7563-6873656e7365'\u001b[0m\u001b[0;34m)\u001b[0m\u001b[0;34m\u001b[0m\u001b[0m\n\u001b[0;32m----> 2\u001b[0;31m \u001b[0mchar\u001b[0m \u001b[0;34m=\u001b[0m \u001b[0msvc\u001b[0m\u001b[0;34m.\u001b[0m\u001b[0mgetCharacteristics\u001b[0m\u001b[0;34m(\u001b[0m\u001b[0;34m)\u001b[0m\u001b[0;34m[\u001b[0m\u001b[0;36m0\u001b[0m\u001b[0;34m]\u001b[0m\u001b[0;34m\u001b[0m\u001b[0m\n\u001b[0m\u001b[1;32m      3\u001b[0m \u001b[0mhandle\u001b[0m \u001b[0;34m=\u001b[0m \u001b[0mchar\u001b[0m\u001b[0;34m.\u001b[0m\u001b[0mvalHandle\u001b[0m\u001b[0;34m\u001b[0m\u001b[0m\n\u001b[1;32m      4\u001b[0m \u001b[0mss\u001b[0m\u001b[0;34m.\u001b[0m\u001b[0mwriteCharacteristic\u001b[0m\u001b[0;34m(\u001b[0m\u001b[0mhandle\u001b[0m\u001b[0;34m+\u001b[0m\u001b[0;36m1\u001b[0m\u001b[0;34m,\u001b[0m \u001b[0;34mb'\\x01\\x00'\u001b[0m\u001b[0;34m)\u001b[0m\u001b[0;34m\u001b[0m\u001b[0m\n",
      "\u001b[0;32m/usr/local/lib/python2.7/dist-packages/bluepy/btle.pyc\u001b[0m in \u001b[0;36mgetCharacteristics\u001b[0;34m(self, forUUID)\u001b[0m\n\u001b[1;32m    142\u001b[0m     \u001b[0;32mdef\u001b[0m \u001b[0mgetCharacteristics\u001b[0m\u001b[0;34m(\u001b[0m\u001b[0mself\u001b[0m\u001b[0;34m,\u001b[0m \u001b[0mforUUID\u001b[0m\u001b[0;34m=\u001b[0m\u001b[0mNone\u001b[0m\u001b[0;34m)\u001b[0m\u001b[0;34m:\u001b[0m\u001b[0;34m\u001b[0m\u001b[0m\n\u001b[1;32m    143\u001b[0m         \u001b[0;32mif\u001b[0m \u001b[0;32mnot\u001b[0m \u001b[0mself\u001b[0m\u001b[0;34m.\u001b[0m\u001b[0mchars\u001b[0m\u001b[0;34m:\u001b[0m \u001b[0;31m# Unset, or empty\u001b[0m\u001b[0;34m\u001b[0m\u001b[0m\n\u001b[0;32m--> 144\u001b[0;31m             \u001b[0mself\u001b[0m\u001b[0;34m.\u001b[0m\u001b[0mchars\u001b[0m \u001b[0;34m=\u001b[0m \u001b[0;34m[\u001b[0m\u001b[0;34m]\u001b[0m \u001b[0;32mif\u001b[0m \u001b[0mself\u001b[0m\u001b[0;34m.\u001b[0m\u001b[0mhndEnd\u001b[0m \u001b[0;34m<=\u001b[0m \u001b[0mself\u001b[0m\u001b[0;34m.\u001b[0m\u001b[0mhndStart\u001b[0m \u001b[0;32melse\u001b[0m \u001b[0mself\u001b[0m\u001b[0;34m.\u001b[0m\u001b[0mperipheral\u001b[0m\u001b[0;34m.\u001b[0m\u001b[0mgetCharacteristics\u001b[0m\u001b[0;34m(\u001b[0m\u001b[0mself\u001b[0m\u001b[0;34m.\u001b[0m\u001b[0mhndStart\u001b[0m\u001b[0;34m,\u001b[0m \u001b[0mself\u001b[0m\u001b[0;34m.\u001b[0m\u001b[0mhndEnd\u001b[0m\u001b[0;34m)\u001b[0m\u001b[0;34m\u001b[0m\u001b[0m\n\u001b[0m\u001b[1;32m    145\u001b[0m         \u001b[0;32mif\u001b[0m \u001b[0mforUUID\u001b[0m \u001b[0;32mis\u001b[0m \u001b[0;32mnot\u001b[0m \u001b[0mNone\u001b[0m\u001b[0;34m:\u001b[0m\u001b[0;34m\u001b[0m\u001b[0m\n\u001b[1;32m    146\u001b[0m             \u001b[0mu\u001b[0m \u001b[0;34m=\u001b[0m \u001b[0mUUID\u001b[0m\u001b[0;34m(\u001b[0m\u001b[0mforUUID\u001b[0m\u001b[0;34m)\u001b[0m\u001b[0;34m\u001b[0m\u001b[0m\n",
      "\u001b[0;32m/usr/local/lib/python2.7/dist-packages/bluepy/btle.pyc\u001b[0m in \u001b[0;36mgetCharacteristics\u001b[0;34m(self, startHnd, endHnd, uuid)\u001b[0m\n\u001b[1;32m    505\u001b[0m         \u001b[0;32mif\u001b[0m \u001b[0muuid\u001b[0m\u001b[0;34m:\u001b[0m\u001b[0;34m\u001b[0m\u001b[0m\n\u001b[1;32m    506\u001b[0m             \u001b[0mcmd\u001b[0m \u001b[0;34m+=\u001b[0m \u001b[0;34m' %s'\u001b[0m \u001b[0;34m%\u001b[0m \u001b[0mUUID\u001b[0m\u001b[0;34m(\u001b[0m\u001b[0muuid\u001b[0m\u001b[0;34m)\u001b[0m\u001b[0;34m\u001b[0m\u001b[0m\n\u001b[0;32m--> 507\u001b[0;31m         \u001b[0mself\u001b[0m\u001b[0;34m.\u001b[0m\u001b[0m_writeCmd\u001b[0m\u001b[0;34m(\u001b[0m\u001b[0mcmd\u001b[0m \u001b[0;34m+\u001b[0m \u001b[0;34m\"\\n\"\u001b[0m\u001b[0;34m)\u001b[0m\u001b[0;34m\u001b[0m\u001b[0m\n\u001b[0m\u001b[1;32m    508\u001b[0m         \u001b[0mrsp\u001b[0m \u001b[0;34m=\u001b[0m \u001b[0mself\u001b[0m\u001b[0;34m.\u001b[0m\u001b[0m_getResp\u001b[0m\u001b[0;34m(\u001b[0m\u001b[0;34m'find'\u001b[0m\u001b[0;34m)\u001b[0m\u001b[0;34m\u001b[0m\u001b[0m\n\u001b[1;32m    509\u001b[0m         \u001b[0mnChars\u001b[0m \u001b[0;34m=\u001b[0m \u001b[0mlen\u001b[0m\u001b[0;34m(\u001b[0m\u001b[0mrsp\u001b[0m\u001b[0;34m[\u001b[0m\u001b[0;34m'hnd'\u001b[0m\u001b[0;34m]\u001b[0m\u001b[0;34m)\u001b[0m\u001b[0;34m\u001b[0m\u001b[0m\n",
      "\u001b[0;32m/usr/local/lib/python2.7/dist-packages/bluepy/btle.pyc\u001b[0m in \u001b[0;36m_writeCmd\u001b[0;34m(self, cmd)\u001b[0m\n\u001b[1;32m    300\u001b[0m     \u001b[0;32mdef\u001b[0m \u001b[0m_writeCmd\u001b[0m\u001b[0;34m(\u001b[0m\u001b[0mself\u001b[0m\u001b[0;34m,\u001b[0m \u001b[0mcmd\u001b[0m\u001b[0;34m)\u001b[0m\u001b[0;34m:\u001b[0m\u001b[0;34m\u001b[0m\u001b[0m\n\u001b[1;32m    301\u001b[0m         \u001b[0;32mif\u001b[0m \u001b[0mself\u001b[0m\u001b[0;34m.\u001b[0m\u001b[0m_helper\u001b[0m \u001b[0;32mis\u001b[0m \u001b[0mNone\u001b[0m\u001b[0;34m:\u001b[0m\u001b[0;34m\u001b[0m\u001b[0m\n\u001b[0;32m--> 302\u001b[0;31m             \u001b[0;32mraise\u001b[0m \u001b[0mBTLEInternalError\u001b[0m\u001b[0;34m(\u001b[0m\u001b[0;34m\"Helper not started (did you call connect()?)\"\u001b[0m\u001b[0;34m)\u001b[0m\u001b[0;34m\u001b[0m\u001b[0m\n\u001b[0m\u001b[1;32m    303\u001b[0m         \u001b[0mDBG\u001b[0m\u001b[0;34m(\u001b[0m\u001b[0;34m\"Sent: \"\u001b[0m\u001b[0;34m,\u001b[0m \u001b[0mcmd\u001b[0m\u001b[0;34m)\u001b[0m\u001b[0;34m\u001b[0m\u001b[0m\n\u001b[1;32m    304\u001b[0m         \u001b[0mself\u001b[0m\u001b[0;34m.\u001b[0m\u001b[0m_helper\u001b[0m\u001b[0;34m.\u001b[0m\u001b[0mstdin\u001b[0m\u001b[0;34m.\u001b[0m\u001b[0mwrite\u001b[0m\u001b[0;34m(\u001b[0m\u001b[0mcmd\u001b[0m\u001b[0;34m)\u001b[0m\u001b[0;34m\u001b[0m\u001b[0m\n",
      "\u001b[0;31mBTLEInternalError\u001b[0m: Helper not started (did you call connect()?)"
     ]
    }
   ],
   "source": [
    "svc = ss.getServiceByUUID('00001701-7374-7265-7563-6873656e7365')\n",
    "char = svc.getCharacteristics()[0]\n",
    "handle = char.valHandle\n",
    "ss.writeCharacteristic(handle+1, b'\\x01\\x00')"
   ]
  },
  {
   "cell_type": "code",
   "execution_count": 140,
   "metadata": {},
   "outputs": [
    {
     "data": {
      "text/plain": [
       "'0100'"
      ]
     },
     "execution_count": 140,
     "metadata": {},
     "output_type": "execute_result"
    }
   ],
   "source": [
    "res = ss.readCharacteristic(17)\n",
    "decimalValue = (binascii.b2a_hex(res))\n",
    "decimalValue"
   ]
  },
  {
   "cell_type": "code",
   "execution_count": 48,
   "metadata": {},
   "outputs": [],
   "source": [
    "ss.disconnect()"
   ]
  },
  {
   "cell_type": "code",
   "execution_count": 195,
   "metadata": {},
   "outputs": [
    {
     "name": "stdout",
     "output_type": "stream",
     "text": [
      "[1233 2634 1282    0 2823 3031 2690 3005    0    0]\n"
     ]
    }
   ],
   "source": [
    "res = p.waitForNotifications(0.9)"
   ]
  },
  {
   "cell_type": "code",
   "execution_count": 44,
   "metadata": {},
   "outputs": [
    {
     "data": {
      "text/plain": [
       "array([ 94,  95,  96,  97, 200])"
      ]
     },
     "execution_count": 44,
     "metadata": {},
     "output_type": "execute_result"
    }
   ],
   "source": [
    "data_test = np.array([0,1,2,3,4,5,6,7])\n",
    "data_test2 = np.array([100,200])\n",
    "conc = np.concatenate((90 + data_test[-4:], data_test2[1:2]))\n",
    "conc"
   ]
  },
  {
   "cell_type": "code",
   "execution_count": 123,
   "metadata": {},
   "outputs": [
    {
     "data": {
      "text/plain": [
       "[<matplotlib.lines.Line2D at 0x7f1f50b09110>]"
      ]
     },
     "execution_count": 123,
     "metadata": {},
     "output_type": "execute_result"
    },
    {
     "data": {
      "image/png": "[encoded data removed]",
      "text/plain": [
       "<matplotlib.figure.Figure at 0x7f1f4ea7d850>"
      ]
     },
     "metadata": {
      "needs_background": "light"
     },
     "output_type": "display_data"
    }
   ],
   "source": [
    "from math import log\n",
    "import matplotlib.pyplot as plt\n",
    "x = np.arange(45,75, 0.5)/55\n",
    "y = [log(elem,(1.18)) for elem in x]\n",
    "plt.plot(x,y)"
   ]
  },
  {
   "cell_type": "code",
   "execution_count": 4,
   "metadata": {},
   "outputs": [],
   "source": [
    "TrainingY = [\n",
    "  [ 0, 0, 0, -15, -90, -90, -90, -90], #Close fist\n",
    "  [ 0, -15, -60, 0, -90, -90, -90, -90], #Thumb up\n",
    "  [ 0, -15, -60, 0, -90, -90, -90, 0], #Thumb up, pinky out\n",
    "  [ 0, -15, -60, 0, 0, 0, 0, 0], #Open hand\n",
    "  [ 0, -15, 0, 40, 0, 0, 0, 0], #Tuck thumb\n",
    "  [ 0, -15, 0, 40, -80, -80, -80, -80], #Tuck thumb in fist\n",
    "  [ -35, 55, -65, 30, -55, 0, 0, 0], #ok sign\n",
    "  [ -60, 33, -35, 30, 0, -60, 0, 0], #touch middle finger\n",
    "  [ -60, 33, -35, 30, 0, -60, -60, 0], #touch middle finger and ring finger\n",
    "  [ 0, -15, -60, 0, 0, 0, 0, 0], #Spread hand open (target thumb)\n",
    "  [ 0, 30, -60, 0, 0, 0, 0, 0], #Rotate thumb hand open (target thumb)\n",
    "  [ 0, 60, -60, 0, 0, 0, 0, 0], #Rotate thumb hand open (target thumb)\n",
    "  [ 0, 60, -45, 0, 0, 0, 0, 0], #Rotate thumb hand open (target thumb)\n",
    "  [ 0, 15, -15, 0, 0, 0, 0, 0], #Rotate thumb hand open (target thumb)\n",
    "  [ 0, 0, 0, 0, 0, 0, 0, 0], #Rotate thumb hand open (target thumb)\n",
    "  [ -15, 90, -45, 0, -90, -90, -90, -90], #Thumb over fist\n",
    "]\n",
    "\n",
    "thumb = []\n",
    "for i in TrainingY:\n",
    "    thumb.append(i[0:4])"
   ]
  },
  {
   "cell_type": "code",
   "execution_count": 2,
   "metadata": {},
   "outputs": [
    {
     "data": {
      "text/plain": [
       "array([1, 1, 1, 1, 1, 1])"
      ]
     },
     "execution_count": 2,
     "metadata": {},
     "output_type": "execute_result"
    }
   ],
   "source": [
    "import numpy as np\n",
    "\n",
    "gestures = [\n",
    "    [0, 0], #0 z, 0 y\n",
    "    [0, -45], #0 z, -45 y\n",
    "    [-45, 0], #Rotate thumb hand open (target thumb)\n",
    "    [0, 30] #Rotate thumb hand open (target thumb)\n",
    "]\n",
    "\n",
    "                #1 s1 th s2\n",
    "result = [\n",
    "    [1, 125, 133, 272], #0 z, 0 y\n",
    "    [1, 125, 131, 267], #0 z, -45 y\n",
    "    [1, 139, 141, 297], #Rotate thumb hand open (target thumb)\n",
    "    [1, 134, 141, 296] #Rotate thumb hand open (target thumb)\n",
    "]\n",
    "\n",
    "ones = np.array([\n",
    "    [1, 1, 1, 0],\n",
    "    [0, 1, 1, 1]\n",
    "])\n",
    "\n",
    "idx = np.nonzero(ones)\n",
    "ones[idx]"
   ]
  },
  {
   "cell_type": "code",
   "execution_count": 17,
   "metadata": {},
   "outputs": [
    {
     "data": {
      "text/plain": [
       "array([ 6.])"
      ]
     },
     "execution_count": 17,
     "metadata": {},
     "output_type": "execute_result"
    }
   ],
   "source": [
    "theta = np.array([])\n",
    "theta = np.append(theta, [6])\n",
    "theta"
   ]
  },
  {
   "cell_type": "code",
   "execution_count": 128,
   "metadata": {},
   "outputs": [
    {
     "name": "stdout",
     "output_type": "stream",
     "text": [
      "3\n",
      "3\n",
      "1\n",
      "1\n",
      "1\n",
      "1\n"
     ]
    },
    {
     "data": {
      "text/plain": [
       "array([[ 10.,  11.,  13.],\n",
       "       [ 11.,  12.,  13.],\n",
       "       [ 14.,   0.,   0.],\n",
       "       [ 15.,   0.,   0.],\n",
       "       [ 16.,   0.,   0.],\n",
       "       [ 17.,   0.,   0.],\n",
       "       [  0.,   0.,   0.],\n",
       "       [  0.,   0.,   0.]])"
      ]
     },
     "execution_count": 128,
     "metadata": {},
     "output_type": "execute_result"
    }
   ],
   "source": [
    "activeSensors = np.array([\n",
    "    [1, 1, 0, 1, 0, 0, 0, 0],\n",
    "    [0, 1, 1, 1, 0, 0, 0, 0],\n",
    "    [0, 0, 0, 0, 1, 0, 0, 0],\n",
    "    [0, 0, 0, 0, 0, 1, 0, 0],\n",
    "    [0, 0, 0, 0, 0, 0, 1, 0],\n",
    "    [0, 0, 0, 0, 0, 0, 0, 1]\n",
    "])\n",
    "\n",
    "arr = np.arange(10,18)\n",
    "\n",
    "def getColumnX(Array):\n",
    "    result = np.zeros((len(Array), 3))\n",
    "    for index in range(len(activeSensors)):\n",
    "        idx = np.nonzero(activeSensors[index])\n",
    "        list = [x for x in Array[idx]]\n",
    "        for r in range(len(list)):\n",
    "            result[index][r] = list[r]\n",
    "        print(len(list))\n",
    "    \n",
    "    return result\n",
    "  \n",
    "getColumnX(arr)"
   ]
  },
  {
   "cell_type": "code",
   "execution_count": 6,
   "metadata": {},
   "outputs": [
    {
     "data": {
      "text/plain": [
       "array([0, 0, 0, 0, 0, 0, 0, 0, 0, 0, 0, 0, 0, 0, 0, 0, 0, 0, 0, 0, 0, 0, 0,\n",
       "       0, 0, 0, 0, 0, 0, 0, 0, 0, 0, 0, 0, 0, 0, 0, 0, 0, 0, 0, 0, 0, 0, 0,\n",
       "       0, 0, 0, 0, 1, 1, 1, 1, 1, 1, 1, 1, 1, 1, 1, 1, 1, 1, 1, 1, 1, 1, 1,\n",
       "       1, 1, 1, 1, 1, 1, 1, 1, 1, 1, 1, 1, 1, 1, 1, 1, 1, 1, 1, 1, 1, 1, 1,\n",
       "       1, 1, 1, 1, 1, 1, 1, 1, 2, 2, 2, 2, 2, 2, 2, 2, 2, 2, 2, 2, 2, 2, 2,\n",
       "       2, 2, 2, 2, 2, 2, 2, 2, 2, 2, 2, 2, 2, 2, 2, 2, 2, 2, 2, 2, 2, 2, 2,\n",
       "       2, 2, 2, 2, 2, 2, 2, 2, 2, 2, 2, 2])"
      ]
     },
     "execution_count": 6,
     "metadata": {},
     "output_type": "execute_result"
    }
   ],
   "source": [
    "from sklearn.datasets import load_iris\n",
    "from sklearn.linear_model import LogisticRegression\n",
    "X, y = load_iris(return_X_y=True)\n",
    "y"
   ]
  },
  {
   "cell_type": "code",
   "execution_count": 3,
   "metadata": {},
   "outputs": [],
   "source": [
    "from sklearn.datasets import load_diabetes\n",
    "from sklearn.linear_model import LogisticRegression\n",
    "import rospy, sys\n",
    "from stretchsense.msg import ssCap\n",
    "from collections import deque\n",
    "from joblib import load, dump\n",
    "from time import sleep\n",
    "from threading import Thread\n",
    "import numpy as np\n",
    "\n",
    "# fingGesture = {\n",
    "#     'halt': 0,\n",
    "#     'one': 1,\n",
    "#     'two': 2,\n",
    "#     'three': 3,\n",
    "#     'four': 4,\n",
    "#     'five': 5\n",
    "# }\n",
    "\n",
    "fingGesture = {\n",
    "    'down': 0,\n",
    "    'up': 1\n",
    "}\n",
    "\n",
    "rospy.init_node('readSSCap', anonymous=True)\n",
    "xGestures = np.zeros((len(fingGesture)*100, 2))\n",
    "yGestures = np.zeros(len(fingGesture)*100)\n",
    "count = 0\n",
    "idx = 0\n",
    "change = deque((0,0), maxlen=2)\n",
    "stop_thread = False\n",
    "\n",
    "def get_key(val): \n",
    "    for key, value in fingGesture.items(): \n",
    "         if val == value: \n",
    "             return key \n",
    "\n",
    "def ssCallback(data):\n",
    "    global count, idx\n",
    "    gest = [x for x in data.values[0:2]]\n",
    "#     predict(gest)\n",
    "    \n",
    "    if idx == len(fingGesture):\n",
    "        print('stopping')\n",
    "        subStop()\n",
    "\n",
    "    else:\n",
    "        xGestures[count] = gest\n",
    "        yGestures[count] = int(count/100)\n",
    "        idx = int((count+1)/100)\n",
    "        count = count + 1\n",
    "        change.append(int(count/100))\n",
    "\n",
    "    if np.std(change)>0 and idx < len(fingGesture):\n",
    "        print(get_key(idx))\n",
    "        sleep(5)\n",
    "        pass\n",
    "    \n",
    "def ssSub():\n",
    "    rospy.Subscriber('stretchSenseCap_10Channel', ssCap, ssCallback)\n",
    "    rospy.spin()\n",
    "\n",
    "sub_thread = Thread(target=ssSub)\n",
    "sub_thread.start()\n",
    "\n",
    "def subStop():\n",
    "    sub_thread.join()\n"
   ]
  },
  {
   "cell_type": "code",
   "execution_count": null,
   "metadata": {},
   "outputs": [
    {
     "name": "stdout",
     "output_type": "stream",
     "text": [
      " one___"
     ]
    }
   ],
   "source": [
    "model = load('fingGest.joblib')\n",
    "\n",
    "def predict(gest):\n",
    "    res = model.predict([gest]) \n",
    "    g = get_key(res[0])\n",
    "    sys.stdout.write(\"\\r %s__\" % g)\n",
    "    sys.stdout.flush()\n",
    "    \n",
    "ssSub()"
   ]
  },
  {
   "cell_type": "code",
   "execution_count": 2,
   "metadata": {},
   "outputs": [
    {
     "name": "stderr",
     "output_type": "stream",
     "text": [
      "/home/husky/.local/lib/python2.7/site-packages/sklearn/linear_model/logistic.py:433: FutureWarning: Default solver will be changed to 'lbfgs' in 0.22. Specify a solver to silence this warning.\n",
      "  FutureWarning)\n",
      "/home/husky/.local/lib/python2.7/site-packages/sklearn/linear_model/logistic.py:460: FutureWarning: Default multi_class will be changed to 'auto' in 0.22. Specify the multi_class option to silence this warning.\n",
      "  \"this warning.\", FutureWarning)\n"
     ]
    },
    {
     "data": {
      "text/plain": [
       "['fingGest.joblib']"
      ]
     },
     "execution_count": 2,
     "metadata": {},
     "output_type": "execute_result"
    }
   ],
   "source": [
    "lr = LogisticRegression(random_state=0).fit(xGestures, yGestures)\n",
    "lr.score(xGestures, yGestures)\n",
    "dump(lr, 'fingGest.joblib')"
   ]
  },
  {
   "cell_type": "code",
   "execution_count": 19,
   "metadata": {},
   "outputs": [
    {
     "ename": "TypeError",
     "evalue": "int() argument must be a string or a number, not 'list'",
     "output_type": "error",
     "traceback": [
      "\u001b[0;31m---------------------------------------------------------------------------\u001b[0m",
      "\u001b[0;31mTypeError\u001b[0m                                 Traceback (most recent call last)",
      "\u001b[0;32m<ipython-input-19-d6691c405dfe>\u001b[0m in \u001b[0;36m<module>\u001b[0;34m()\u001b[0m\n\u001b[1;32m      1\u001b[0m \u001b[0md\u001b[0m \u001b[0;34m=\u001b[0m \u001b[0;34m[\u001b[0m\u001b[0;36m1.70111838\u001b[0m\u001b[0;34m,\u001b[0m \u001b[0;36m1.58879359\u001b[0m\u001b[0;34m,\u001b[0m \u001b[0;36m0.53324571\u001b[0m\u001b[0;34m,\u001b[0m \u001b[0;36m0.62825394\u001b[0m\u001b[0;34m]\u001b[0m\u001b[0;34m\u001b[0m\u001b[0m\n\u001b[1;32m      2\u001b[0m \u001b[0md\u001b[0m \u001b[0;34m=\u001b[0m \u001b[0;34m[\u001b[0m\u001b[0mround\u001b[0m\u001b[0;34m(\u001b[0m\u001b[0mx\u001b[0m\u001b[0;34m/\u001b[0m\u001b[0;36m1.57\u001b[0m\u001b[0;34m)\u001b[0m \u001b[0;32mfor\u001b[0m \u001b[0mx\u001b[0m \u001b[0;32min\u001b[0m \u001b[0md\u001b[0m\u001b[0;34m]\u001b[0m\u001b[0;34m\u001b[0m\u001b[0m\n\u001b[0;32m----> 3\u001b[0;31m \u001b[0mint\u001b[0m\u001b[0;34m(\u001b[0m\u001b[0md\u001b[0m\u001b[0;34m)\u001b[0m\u001b[0;34m\u001b[0m\u001b[0m\n\u001b[0m",
      "\u001b[0;31mTypeError\u001b[0m: int() argument must be a string or a number, not 'list'"
     ]
    }
   ],
   "source": [
    "d = [1.70111838, 1.58879359, 0.53324571, 0.62825394]\n",
    "d = [round(x/1.57) for x in d]\n",
    "d"
   ]
  },
  {
   "cell_type": "code",
   "execution_count": 44,
   "metadata": {},
   "outputs": [
    {
     "ename": "IndexError",
     "evalue": "deque index out of range",
     "output_type": "error",
     "traceback": [
      "\u001b[0;31m---------------------------------------------------------------------------\u001b[0m",
      "\u001b[0;31mIndexError\u001b[0m                                Traceback (most recent call last)",
      "\u001b[0;32m<ipython-input-44-1dd3366029c5>\u001b[0m in \u001b[0;36m<module>\u001b[0;34m()\u001b[0m\n\u001b[1;32m      8\u001b[0m \u001b[0;34m\u001b[0m\u001b[0m\n\u001b[1;32m      9\u001b[0m \u001b[0;34m\u001b[0m\u001b[0m\n\u001b[0;32m---> 10\u001b[0;31m \u001b[0msum_list\u001b[0m \u001b[0;34m=\u001b[0m \u001b[0;34m[\u001b[0m\u001b[0;34m(\u001b[0m\u001b[0ma\u001b[0m\u001b[0;34m+\u001b[0m\u001b[0mb\u001b[0m\u001b[0;34m+\u001b[0m\u001b[0mc\u001b[0m\u001b[0;34m+\u001b[0m\u001b[0md\u001b[0m\u001b[0;34m)\u001b[0m\u001b[0;34m/\u001b[0m\u001b[0;36m4\u001b[0m \u001b[0;32mfor\u001b[0m \u001b[0ma\u001b[0m\u001b[0;34m,\u001b[0m\u001b[0mb\u001b[0m\u001b[0;34m,\u001b[0m\u001b[0mc\u001b[0m\u001b[0;34m,\u001b[0m\u001b[0md\u001b[0m \u001b[0;32min\u001b[0m \u001b[0mzip\u001b[0m\u001b[0;34m(\u001b[0m\u001b[0mcc\u001b[0m\u001b[0;34m[\u001b[0m\u001b[0;36m0\u001b[0m\u001b[0;34m]\u001b[0m\u001b[0;34m,\u001b[0m \u001b[0mcc\u001b[0m\u001b[0;34m[\u001b[0m\u001b[0;36m1\u001b[0m\u001b[0;34m]\u001b[0m\u001b[0;34m,\u001b[0m \u001b[0mcc\u001b[0m\u001b[0;34m[\u001b[0m\u001b[0;36m2\u001b[0m\u001b[0;34m]\u001b[0m\u001b[0;34m,\u001b[0m \u001b[0mcc\u001b[0m\u001b[0;34m[\u001b[0m\u001b[0;36m3\u001b[0m\u001b[0;34m]\u001b[0m\u001b[0;34m)\u001b[0m\u001b[0;34m]\u001b[0m\u001b[0;34m\u001b[0m\u001b[0m\n\u001b[0m\u001b[1;32m     11\u001b[0m \u001b[0msum_list\u001b[0m\u001b[0;34m\u001b[0m\u001b[0m\n",
      "\u001b[0;31mIndexError\u001b[0m: deque index out of range"
     ]
    }
   ],
   "source": [
    "from collections import deque\n",
    "import numpy as np\n",
    "\n",
    "cc = deque(maxlen = 5)\n",
    "cc.append([1,2,3])\n",
    "cc.append([4,5,6])\n",
    "cc.append([1,2,3])\n",
    "\n",
    "\n",
    "sum_list = [(a+b+c)/3 for a,b,c,d in zip(cc[0], cc[1], cc[2])]\n",
    "sum_list\n"
   ]
  },
  {
   "cell_type": "code",
   "execution_count": 43,
   "metadata": {},
   "outputs": [
    {
     "data": {
      "text/plain": [
       "[(1, 4), (2, 5), (3, 6)]"
      ]
     },
     "execution_count": 43,
     "metadata": {},
     "output_type": "execute_result"
    }
   ],
   "source": [
    "zip(cc[0], cc[1])"
   ]
  },
  {
   "cell_type": "code",
   "execution_count": null,
   "metadata": {},
   "outputs": [],
   "source": []
  }
 ],
 "metadata": {
  "kernelspec": {
   "display_name": "Python 2",
   "language": "python",
   "name": "python2"
  },
  "language_info": {
   "codemirror_mode": {
    "name": "ipython",
    "version": 2
   },
   "file_extension": ".py",
   "mimetype": "text/x-python",
   "name": "python",
   "nbconvert_exporter": "python",
   "pygments_lexer": "ipython2",
   "version": "2.7.17"
  }
 },
 "nbformat": 4,
 "nbformat_minor": 2
}
