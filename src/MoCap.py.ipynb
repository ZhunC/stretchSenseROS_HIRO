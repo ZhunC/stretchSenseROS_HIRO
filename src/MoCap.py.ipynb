{
 "cells": [
  {
   "cell_type": "code",
   "execution_count": null,
   "metadata": {},
   "outputs": [],
   "source": [
    "import bluepy\n",
    "# prefperi_left = 'F8:A6:1C:CB:ED:A6'\n",
    "# prefperi_right = 'F6:B2:2F:08:B9:48'\n",
    "prefperi_custom = 'de:9c:60:51:f5:bf'\n",
    "ss = bluepy.btle.Peripheral()\n",
    "ss.connect(prefperi_custom,'random')"
   ]
  },
  {
   "cell_type": "code",
   "execution_count": null,
   "metadata": {
    "scrolled": true
   },
   "outputs": [],
   "source": [
    "import binascii\n",
    "import numpy as np\n",
    "from collections import deque\n",
    "from time import sleep\n",
    "values = deque()\n",
    "\n",
    "                    \n",
    "gestures = {\n",
    "    '0 z, 0 y':    [0, 0], #0 z, 0 y\n",
    "    '0 z, -45 y':  [0, -45], #0 z, -45 y\n",
    "    '-45 z, 0 y':  [-45, 0], #Rotate thumb hand open (target thumb)\n",
    "    '0 z, 30 y':   [0, 30], #Rotate thumb hand open (target thumb)\n",
    "}\n",
    "\n",
    "                #1 s1 th s2\n",
    "result = {\n",
    "    '0 z, 0 y': [ 1, 127, 275, 132], #0 z, 0 y\n",
    "    '0 z, -45 y':  [ 1, 127, 270, 132], #0 z, -45 y\n",
    "    '-45 z, 0 y': [ 1, 133, 288, 137], #Rotate thumb hand open (target thumb)\n",
    "    '0 z, 30 y': [ 1, 124, 276, 132], #Rotate thumb hand open (target thumb)\n",
    "}\n",
    "\n",
    "\n",
    "# handle = i.getHandle()\n",
    "# if handle == 12 or handle == 55:\n",
    "#     continue\n",
    "for i in gestures:\n",
    "    print('get ready for ' + i)\n",
    "    sleep(4)\n",
    "    value = ss.readCharacteristic(16)\n",
    "    decimalValue = (binascii.b2a_hex(value))\n",
    "    splitted = [decimalValue[j:j+4] for j in range(0, len(decimalValue),4)]\n",
    "    val = np.array(list(map(lambda x: int((x),16)/10, splitted)))\n",
    "    idx = np.nonzero(val)\n",
    "    val = val[idx][:-1]\n",
    "    val = np.insert(val, 0, 1)\n",
    "#     print('splayL thumb splayR')\n",
    "    print(val[0:4])\n",
    "    result[i] = val[0:4]\n",
    "#     print('2 seconds')\n",
    "#     sleep(2)"
   ]
  },
  {
   "cell_type": "code",
   "execution_count": null,
   "metadata": {},
   "outputs": [],
   "source": [
    "import numpy as np\n",
    "from sklearn import linear_model\n",
    "\n",
    "gestures = [\n",
    "    [0, 0], #0 z, 0 y\n",
    "    [0, -45], #0 z, -45 y\n",
    "    [-45, 0], #Rotate thumb hand open (target thumb)\n",
    "    [0, 30] #Rotate thumb hand open (target thumb)\n",
    "]\n",
    "\n",
    "                #1 s1 th s2\n",
    "result = [\n",
    "    [1, 125, 133, 272], #0 z, 0 y\n",
    "    [1, 125, 131, 267], #0 z, -45 y\n",
    "    [1, 139, 141, 297], #Rotate thumb hand open (target thumb)\n",
    "    [1, 134, 141, 296] #Rotate thumb hand open (target thumb)\n",
    "]\n",
    "\n",
    "theta = [] # np.zeros((len(gestures[0]), 3))\n",
    "\n",
    "def getColumnY(Array, index):\n",
    "    col = np.zeros(len(Array))\n",
    "\n",
    "    for i in range(0, len(Array)):\n",
    "        col[i] = Array[i][index]\n",
    "\n",
    "    return col\n",
    "\n",
    "def getColumnRes(Array, index):\n",
    "    col = np.zeros((len(Array), 3))\n",
    "    for i in range(0, len(Array)):\n",
    "        col[i] = [x for x in Array[i][index:index+3]]\n",
    "\n",
    "    return col\n",
    "\n",
    "def ApplyTransformation(inputt, theta):\n",
    "    result = np.zeros(len(theta))\n",
    "    for i in range(len(theta)):\n",
    "        result[i] = (inputt[i] * theta[i][0]) + theta[i][1]\n",
    "    return result\n",
    "\n",
    "for i in range(0, len(gestures[0])):\n",
    "    y = getColumnY(gestures, i)\n",
    "    x = getColumnRes(result, i)\n",
    "    print(x.shape, y.shape)\n",
    "#     x = np.array([x])\n",
    "    regr = linear_model.LinearRegression()\n",
    "    regr.fit(x,y)\n",
    "    theta.append([x for x in regr.coef_])\n",
    "    theta[i].append(regr.intercept_)\n",
    "\n",
    "print(theta)\n",
    "    \n"
   ]
  },
  {
   "cell_type": "code",
   "execution_count": null,
   "metadata": {},
   "outputs": [],
   "source": [
    "regr.predict(x)"
   ]
  },
  {
   "cell_type": "code",
   "execution_count": null,
   "metadata": {},
   "outputs": [],
   "source": [
    "thet = [2.72727273,  131.59090909,  -43.63636364, -5973.4090909090701]\n",
    "res = [134,  141,  296, 1]\n",
    "out = np.dot(thet, res)\n",
    "out"
   ]
  },
  {
   "cell_type": "code",
   "execution_count": null,
   "metadata": {},
   "outputs": [],
   "source": [
    "from sklearn.linear_model import LinearRegression\n",
    "from joblib import dump, load\n",
    "regr = LinearRegression()\n",
    "X = np.array([[1, 1, 2], [1, 2, 2], [2, 2, 4], [2, 3, 5]])\n",
    "# y = np.dot(X, np.array([1, 2, 3]))\n",
    "y = np.array([1, 2, 3, 4])\n",
    "print(y)\n",
    "regr.fit(X,y)\n",
    "regr.coef_\n",
    "dump(regr, 'ss.joblib')"
   ]
  },
  {
   "cell_type": "code",
   "execution_count": null,
   "metadata": {},
   "outputs": [],
   "source": [
    "load('ss.joblib')"
   ]
  },
  {
   "cell_type": "code",
   "execution_count": null,
   "metadata": {},
   "outputs": [],
   "source": [
    "ss.disconnect()"
   ]
  },
  {
   "cell_type": "code",
   "execution_count": null,
   "metadata": {},
   "outputs": [],
   "source": [
    "arr = np.array([1,2,3])\n",
    "arr.tolist()"
   ]
  },
  {
   "cell_type": "code",
   "execution_count": null,
   "metadata": {},
   "outputs": [],
   "source": [
    "TrainingName = [\"close fist\", \"thumb up\", \"Thumb up, pinky out\", \"Open hand\", \"tuck thumb\", \"tuck thumb in fist\", \"ok sign\", \"touch middle finger\",\n",
    "                \"touch middle finger and ring finger\", \"Spread hand open (target thumb)\", \"Rotate thumb hand open (target thumb)\",\"Rotate thumb hand open (target thumb)\", \"Rotate thumb hand open (target thumb)\",\n",
    "                \"Rotate thumb hand open (target thumb)\", \"Rotate thumb hand open (target thumb)\", \"Thumb over fist\"]\n",
    "len(TrainingName)"
   ]
  },
  {
   "cell_type": "code",
   "execution_count": null,
   "metadata": {},
   "outputs": [],
   "source": [
    "TrainingY = [\n",
    "  [ 0, 0, 0, -15, -90, -90, -90, -90], #Close fist\n",
    "  [ 0, -15, -60, 0, -90, -90, -90, -90], #Thumb up\n",
    "  [ 0, -15, -60, 0, -90, -90, -90, 0], #Thumb up, pinky out\n",
    "  [ 0, -15, -60, 0, 0, 0, 0, 0], #Open hand\n",
    "  [ 0, -15, 0, 40, 0, 0, 0, 0], #Tuck thumb\n",
    "  [ 0, -15, 0, 40, -80, -80, -80, -80], #Tuck thumb in fist\n",
    "  [ -35, 55, -65, 30, -55, 0, 0, 0], #ok sign\n",
    "  [ -60, 33, -35, 30, 0, -60, 0, 0], #touch middle finger\n",
    "  [ -60, 33, -35, 30, 0, -60, -60, 0], #touch middle finger and ring finger\n",
    "  [ 0, -15, -60, 0, 0, 0, 0, 0], #Spread hand open (target thumb)\n",
    "  [ 0, 30, -60, 0, 0, 0, 0, 0], #Rotate thumb hand open (target thumb)\n",
    "  [ 0, 60, -60, 0, 0, 0, 0, 0], #Rotate thumb hand open (target thumb)\n",
    "  [ 0, 60, -45, 0, 0, 0, 0, 0], #Rotate thumb hand open (target thumb)\n",
    "  [ 0, 15, -15, 0, 0, 0, 0, 0], #Rotate thumb hand open (target thumb)\n",
    "  [ 0, 0, 0, 0, 0, 0, 0, 0], #Rotate thumb hand open (target thumb)\n",
    "  [ -15, 90, -45, 0, -90, -90, -90, -90], #Thumb over fist\n",
    "]\n",
    "\n",
    "len(TrainingY)"
   ]
  },
  {
   "cell_type": "code",
   "execution_count": null,
   "metadata": {},
   "outputs": [],
   "source": [
    "'renewing recording for %s in %f' % ('lv', 5.6)"
   ]
  },
  {
   "cell_type": "code",
   "execution_count": null,
   "metadata": {},
   "outputs": [],
   "source": [
    "import binascii\n",
    "import numpy as np\n",
    "\n",
    "for i in ss.getCharacteristics():  \n",
    "    try:\n",
    "        if i.valHandle in range(16,42):\n",
    "            print(i.uuid)\n",
    "            handle = i.valHandle\n",
    "            print('handle ', handle)\n",
    "            value = ss.readCharacteristic(handle)\n",
    "            decimalValue = (binascii.b2a_hex(value))\n",
    "            print(decimalValue)\n",
    "            splitted = [decimalValue[i:i+4] for i in range(0, len(decimalValue),4)]\n",
    "            val = np.array(list(map(lambda x: int((x),16), splitted)))\n",
    "\n",
    "            print(val)\n",
    "            print('\\n')\n",
    "    except:\n",
    "        pass   \n",
    "    \n",
    "\n"
   ]
  },
  {
   "cell_type": "code",
   "execution_count": null,
   "metadata": {
    "scrolled": true
   },
   "outputs": [],
   "source": [
    "value = b\"\\x5a\"\n",
    "ss.writeCharacteristic(29, value)\n",
    "res = ss.readCharacteristic(29)\n",
    "decimalValue = (binascii.b2a_hex(res))\n",
    "decimalValue = int(decimalValue,16)\n",
    "decimalValue"
   ]
  },
  {
   "cell_type": "code",
   "execution_count": null,
   "metadata": {},
   "outputs": [],
   "source": []
  },
  {
   "cell_type": "code",
   "execution_count": null,
   "metadata": {},
   "outputs": [],
   "source": [
    "svc = ss.getServiceByUUID('00001701-7374-7265-7563-6873656e7365')\n",
    "char = svc.getCharacteristics()[0]\n",
    "handle = char.valHandle\n",
    "ss.writeCharacteristic(handle+1, b'\\x01\\x00')"
   ]
  },
  {
   "cell_type": "code",
   "execution_count": null,
   "metadata": {},
   "outputs": [],
   "source": [
    "res = ss.readCharacteristic(17)\n",
    "decimalValue = (binascii.b2a_hex(res))\n",
    "decimalValue"
   ]
  },
  {
   "cell_type": "code",
   "execution_count": null,
   "metadata": {},
   "outputs": [],
   "source": [
    "p.disconnect()"
   ]
  },
  {
   "cell_type": "code",
   "execution_count": null,
   "metadata": {},
   "outputs": [],
   "source": [
    "res = p.waitForNotifications(0.9)"
   ]
  },
  {
   "cell_type": "code",
   "execution_count": null,
   "metadata": {},
   "outputs": [],
   "source": [
    "data_test = np.array([0,1,2,3,4,5,6,7])\n",
    "data_test2 = np.array([100,200])\n",
    "conc = np.concatenate((90 + data_test[-4:], data_test2[1:2]))\n",
    "conc"
   ]
  },
  {
   "cell_type": "code",
   "execution_count": null,
   "metadata": {},
   "outputs": [],
   "source": [
    "from math import log\n",
    "import matplotlib.pyplot as plt\n",
    "x = np.arange(45,75, 0.5)/55\n",
    "y = [log(elem,(1.18)) for elem in x]\n",
    "plt.plot(x,y)"
   ]
  },
  {
   "cell_type": "code",
   "execution_count": null,
   "metadata": {},
   "outputs": [],
   "source": [
    "TrainingY = [\n",
    "  [ 0, 0, 0, -15, -90, -90, -90, -90], #Close fist\n",
    "  [ 0, -15, -60, 0, -90, -90, -90, -90], #Thumb up\n",
    "  [ 0, -15, -60, 0, -90, -90, -90, 0], #Thumb up, pinky out\n",
    "  [ 0, -15, -60, 0, 0, 0, 0, 0], #Open hand\n",
    "  [ 0, -15, 0, 40, 0, 0, 0, 0], #Tuck thumb\n",
    "  [ 0, -15, 0, 40, -80, -80, -80, -80], #Tuck thumb in fist\n",
    "  [ -35, 55, -65, 30, -55, 0, 0, 0], #ok sign\n",
    "  [ -60, 33, -35, 30, 0, -60, 0, 0], #touch middle finger\n",
    "  [ -60, 33, -35, 30, 0, -60, -60, 0], #touch middle finger and ring finger\n",
    "  [ 0, -15, -60, 0, 0, 0, 0, 0], #Spread hand open (target thumb)\n",
    "  [ 0, 30, -60, 0, 0, 0, 0, 0], #Rotate thumb hand open (target thumb)\n",
    "  [ 0, 60, -60, 0, 0, 0, 0, 0], #Rotate thumb hand open (target thumb)\n",
    "  [ 0, 60, -45, 0, 0, 0, 0, 0], #Rotate thumb hand open (target thumb)\n",
    "  [ 0, 15, -15, 0, 0, 0, 0, 0], #Rotate thumb hand open (target thumb)\n",
    "  [ 0, 0, 0, 0, 0, 0, 0, 0], #Rotate thumb hand open (target thumb)\n",
    "  [ -15, 90, -45, 0, -90, -90, -90, -90], #Thumb over fist\n",
    "]\n",
    "\n",
    "thumb = []\n",
    "for i in TrainingY:\n",
    "    thumb.append(i[0:4])"
   ]
  },
  {
   "cell_type": "code",
   "execution_count": null,
   "metadata": {},
   "outputs": [],
   "source": [
    "import numpy as np\n",
    "\n",
    "gestures = [\n",
    "    [0, 0], #0 z, 0 y\n",
    "    [0, -45], #0 z, -45 y\n",
    "    [-45, 0], #Rotate thumb hand open (target thumb)\n",
    "    [0, 30] #Rotate thumb hand open (target thumb)\n",
    "]\n",
    "\n",
    "                #1 s1 th s2\n",
    "result = [\n",
    "    [1, 125, 133, 272], #0 z, 0 y\n",
    "    [1, 125, 131, 267], #0 z, -45 y\n",
    "    [1, 139, 141, 297], #Rotate thumb hand open (target thumb)\n",
    "    [1, 134, 141, 296] #Rotate thumb hand open (target thumb)\n",
    "]\n",
    "\n",
    "ones = np.array([\n",
    "    [1, 1, 1, 0],\n",
    "    [0, 1, 1, 1]\n",
    "])\n",
    "\n",
    "idx = np.nonzero(ones)\n",
    "ones[idx]"
   ]
  },
  {
   "cell_type": "code",
   "execution_count": null,
   "metadata": {},
   "outputs": [],
   "source": [
    "theta = np.array([])\n",
    "theta = np.append(theta, [6])\n",
    "theta"
   ]
  },
  {
   "cell_type": "code",
   "execution_count": null,
   "metadata": {},
   "outputs": [],
   "source": [
    "activeSensors = np.array([\n",
    "    [1, 1, 0, 1, 0, 0, 0, 0],\n",
    "    [0, 1, 1, 1, 0, 0, 0, 0],\n",
    "    [0, 0, 0, 0, 1, 0, 0, 0],\n",
    "    [0, 0, 0, 0, 0, 1, 0, 0],\n",
    "    [0, 0, 0, 0, 0, 0, 1, 0],\n",
    "    [0, 0, 0, 0, 0, 0, 0, 1]\n",
    "])\n",
    "\n",
    "arr = np.arange(10,18)\n",
    "\n",
    "def getColumnX(Array):\n",
    "    result = np.zeros((len(Array), 3))\n",
    "    for index in range(len(activeSensors)):\n",
    "        idx = np.nonzero(activeSensors[index])\n",
    "        list = [x for x in Array[idx]]\n",
    "        for r in range(len(list)):\n",
    "            result[index][r] = list[r]\n",
    "        print(len(list))\n",
    "    \n",
    "    return result\n",
    "  \n",
    "getColumnX(arr)"
   ]
  },
  {
   "cell_type": "code",
   "execution_count": null,
   "metadata": {},
   "outputs": [],
   "source": [
    "from sklearn.datasets import load_iris\n",
    "from sklearn.linear_model import LogisticRegression\n",
    "X, y = load_iris(return_X_y=True)\n",
    "y"
   ]
  },
  {
   "cell_type": "code",
   "execution_count": null,
   "metadata": {},
   "outputs": [],
   "source": [
    "from sklearn.datasets import load_diabetes\n",
    "from sklearn.linear_model import LogisticRegression\n",
    "import rospy, sys\n",
    "from stretchsense.msg import ssCap\n",
    "from collections import deque\n",
    "from joblib import load, dump\n",
    "from time import sleep\n",
    "from threading import Thread\n",
    "import numpy as np\n",
    "\n",
    "# fingGesture = {\n",
    "#     'halt': 0,\n",
    "#     'one': 1,\n",
    "#     'two': 2,\n",
    "#     'three': 3,\n",
    "#     'four': 4,\n",
    "#     'five': 5\n",
    "# }\n",
    "\n",
    "fingGesture = {\n",
    "    'down': 0,\n",
    "    'up': 1\n",
    "}\n",
    "\n",
    "rospy.init_node('readSSCap', anonymous=True)\n",
    "xGestures = np.zeros((len(fingGesture)*100, 2))\n",
    "yGestures = np.zeros(len(fingGesture)*100)\n",
    "count = 0\n",
    "idx = 0\n",
    "change = deque((0,0), maxlen=2)\n",
    "stop_thread = False\n",
    "\n",
    "def get_key(val): \n",
    "    for key, value in fingGesture.items(): \n",
    "         if val == value: \n",
    "             return key \n",
    "\n",
    "def ssCallback(data):\n",
    "    global count, idx\n",
    "    gest = [x for x in data.values[0:2]]\n",
    "#     predict(gest)\n",
    "    \n",
    "    if idx == len(fingGesture):\n",
    "        print('stopping')\n",
    "        subStop()\n",
    "\n",
    "    else:\n",
    "        xGestures[count] = gest\n",
    "        yGestures[count] = int(count/100)\n",
    "        idx = int((count+1)/100)\n",
    "        count = count + 1\n",
    "        change.append(int(count/100))\n",
    "\n",
    "    if np.std(change)>0 and idx < len(fingGesture):\n",
    "        print(get_key(idx))\n",
    "        sleep(5)\n",
    "        pass\n",
    "    \n",
    "def ssSub():\n",
    "    rospy.Subscriber('stretchSenseCap_10Channel', ssCap, ssCallback)\n",
    "    rospy.spin()\n",
    "\n",
    "sub_thread = Thread(target=ssSub)\n",
    "sub_thread.start()\n",
    "\n",
    "def subStop():\n",
    "    sub_thread.join()\n"
   ]
  },
  {
   "cell_type": "code",
   "execution_count": null,
   "metadata": {},
   "outputs": [],
   "source": [
    "model = load('fingGest.joblib')\n",
    "\n",
    "def predict(gest):\n",
    "    res = model.predict([gest]) \n",
    "    g = get_key(res[0])\n",
    "    sys.stdout.write(\"\\r %s__\" % g)\n",
    "    sys.stdout.flush()\n",
    "    \n",
    "ssSub()"
   ]
  },
  {
   "cell_type": "code",
   "execution_count": null,
   "metadata": {
    "scrolled": true
   },
   "outputs": [],
   "source": [
    "lr = LogisticRegression(random_state=0).fit(xGestures, yGestures)\n",
    "lr.score(xGestures, yGestures)\n",
    "dump(lr, 'fingGest.joblib')"
   ]
  },
  {
   "cell_type": "code",
   "execution_count": null,
   "metadata": {
    "scrolled": false
   },
   "outputs": [],
   "source": [
    "d = [1.70111838, 1.58879359, 0.53324571, 0.62825394]\n",
    "d = [round(x/1.57) for x in d]\n",
    "d"
   ]
  },
  {
   "cell_type": "code",
   "execution_count": null,
   "metadata": {},
   "outputs": [],
   "source": [
    "zip(cc[0], cc[1])"
   ]
  },
  {
   "cell_type": "code",
   "execution_count": null,
   "metadata": {},
   "outputs": [],
   "source": []
  }
 ],
 "metadata": {
  "kernelspec": {
   "display_name": "Python 2",
   "language": "python",
   "name": "python2"
  },
  "language_info": {
   "codemirror_mode": {
    "name": "ipython",
    "version": 2
   },
   "file_extension": ".py",
   "mimetype": "text/x-python",
   "name": "python",
   "nbconvert_exporter": "python",
   "pygments_lexer": "ipython2",
   "version": "2.7.17"
  }
 },
 "nbformat": 4,
 "nbformat_minor": 2
}
